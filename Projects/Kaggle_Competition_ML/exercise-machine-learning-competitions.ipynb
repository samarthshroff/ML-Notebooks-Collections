{
 "cells": [
  {
   "cell_type": "markdown",
   "id": "094d7c55",
   "metadata": {
    "papermill": {
     "duration": 0.003344,
     "end_time": "2025-06-18T15:54:26.882804",
     "exception": false,
     "start_time": "2025-06-18T15:54:26.879460",
     "status": "completed"
    },
    "tags": []
   },
   "source": [
    "**This notebook is an exercise in the [Introduction to Machine Learning](https://www.kaggle.com/learn/intro-to-machine-learning) course.  You can reference the tutorial at [this link](https://www.kaggle.com/alexisbcook/machine-learning-competitions).**\n",
    "\n",
    "---\n"
   ]
  },
  {
   "cell_type": "markdown",
   "id": "be39f803",
   "metadata": {
    "papermill": {
     "duration": 0.002605,
     "end_time": "2025-06-18T15:54:26.888989",
     "exception": false,
     "start_time": "2025-06-18T15:54:26.886384",
     "status": "completed"
    },
    "tags": []
   },
   "source": [
    "# Introduction\n",
    "\n",
    "In this exercise, you will create and submit predictions for a Kaggle competition. You can then improve your model (e.g. by adding features) to apply what you've learned and move up the leaderboard.\n",
    "\n",
    "Begin by running the code cell below to set up code checking and the filepaths for the dataset."
   ]
  },
  {
   "cell_type": "code",
   "execution_count": 1,
   "id": "92da76be",
   "metadata": {
    "execution": {
     "iopub.execute_input": "2025-06-18T15:54:26.895879Z",
     "iopub.status.busy": "2025-06-18T15:54:26.895521Z",
     "iopub.status.idle": "2025-06-18T15:54:28.699365Z",
     "shell.execute_reply": "2025-06-18T15:54:28.698535Z"
    },
    "papermill": {
     "duration": 1.809253,
     "end_time": "2025-06-18T15:54:28.701002",
     "exception": false,
     "start_time": "2025-06-18T15:54:26.891749",
     "status": "completed"
    },
    "tags": []
   },
   "outputs": [],
   "source": [
    "# Set up code checking\n",
    "from learntools.core import binder\n",
    "binder.bind(globals())\n",
    "from learntools.machine_learning.ex7 import *\n",
    "\n",
    "# Set up filepaths\n",
    "import os\n",
    "if not os.path.exists(\"../input/train.csv\"):\n",
    "    os.symlink(\"../input/home-data-for-ml-course/train.csv\", \"../input/train.csv\")  \n",
    "    os.symlink(\"../input/home-data-for-ml-course/test.csv\", \"../input/test.csv\") "
   ]
  },
  {
   "cell_type": "markdown",
   "id": "e1de4dfd",
   "metadata": {
    "papermill": {
     "duration": 0.002471,
     "end_time": "2025-06-18T15:54:28.706491",
     "exception": false,
     "start_time": "2025-06-18T15:54:28.704020",
     "status": "completed"
    },
    "tags": []
   },
   "source": [
    "Here's some of the code you've written so far. Start by running it again."
   ]
  },
  {
   "cell_type": "code",
   "execution_count": 2,
   "id": "87188f00",
   "metadata": {
    "execution": {
     "iopub.execute_input": "2025-06-18T15:54:28.713074Z",
     "iopub.status.busy": "2025-06-18T15:54:28.712663Z",
     "iopub.status.idle": "2025-06-18T16:06:09.004347Z",
     "shell.execute_reply": "2025-06-18T16:06:09.003490Z"
    },
    "papermill": {
     "duration": 700.300189,
     "end_time": "2025-06-18T16:06:09.009248",
     "exception": false,
     "start_time": "2025-06-18T15:54:28.709059",
     "status": "completed"
    },
    "tags": []
   },
   "outputs": [
    {
     "name": "stdout",
     "output_type": "stream",
     "text": [
      "max_leaf_node: 750, n_estimators: 100, MAE: 18,162\n",
      "max_leaf_node: 750, n_estimators: 2770, MAE: 17,980\n",
      "max_leaf_node: 750, n_estimators: 2775, MAE: 17,978\n",
      "max_leaf_node: 750, n_estimators: 2780, MAE: 17,979\n",
      "max_leaf_node: 750, n_estimators: 2790, MAE: 17,983\n",
      "max_leaf_node: 750, n_estimators: 2800, MAE: 17,980\n",
      "max_leaf_node: 760, n_estimators: 100, MAE: 18,162\n",
      "max_leaf_node: 760, n_estimators: 2770, MAE: 17,980\n",
      "max_leaf_node: 760, n_estimators: 2775, MAE: 17,978\n",
      "max_leaf_node: 760, n_estimators: 2780, MAE: 17,979\n",
      "max_leaf_node: 760, n_estimators: 2790, MAE: 17,983\n",
      "max_leaf_node: 760, n_estimators: 2800, MAE: 17,980\n",
      "max_leaf_node: 770, n_estimators: 100, MAE: 18,162\n",
      "max_leaf_node: 770, n_estimators: 2770, MAE: 17,980\n",
      "max_leaf_node: 770, n_estimators: 2775, MAE: 17,978\n",
      "max_leaf_node: 770, n_estimators: 2780, MAE: 17,979\n",
      "max_leaf_node: 770, n_estimators: 2790, MAE: 17,983\n",
      "max_leaf_node: 770, n_estimators: 2800, MAE: 17,980\n",
      "max_leaf_node: 780, n_estimators: 100, MAE: 18,162\n",
      "max_leaf_node: 780, n_estimators: 2770, MAE: 17,980\n",
      "max_leaf_node: 780, n_estimators: 2775, MAE: 17,978\n",
      "max_leaf_node: 780, n_estimators: 2780, MAE: 17,979\n",
      "max_leaf_node: 780, n_estimators: 2790, MAE: 17,983\n",
      "max_leaf_node: 780, n_estimators: 2800, MAE: 17,980\n",
      "max_leaf_node: 790, n_estimators: 100, MAE: 18,162\n",
      "max_leaf_node: 790, n_estimators: 2770, MAE: 17,980\n",
      "max_leaf_node: 790, n_estimators: 2775, MAE: 17,978\n",
      "max_leaf_node: 790, n_estimators: 2780, MAE: 17,979\n",
      "max_leaf_node: 790, n_estimators: 2790, MAE: 17,983\n",
      "max_leaf_node: 790, n_estimators: 2800, MAE: 17,980\n",
      "max_leaf_node: 800, n_estimators: 100, MAE: 18,162\n",
      "max_leaf_node: 800, n_estimators: 2770, MAE: 17,980\n",
      "max_leaf_node: 800, n_estimators: 2775, MAE: 17,978\n",
      "max_leaf_node: 800, n_estimators: 2780, MAE: 17,979\n",
      "max_leaf_node: 800, n_estimators: 2790, MAE: 17,983\n",
      "max_leaf_node: 800, n_estimators: 2800, MAE: 17,980\n",
      "optimal_mae:: 17977.510223421075\n",
      "ideal_max_leaf_node:: 750\n",
      "ideal_estimators:: 2775\n"
     ]
    }
   ],
   "source": [
    "# Import helpful libraries\n",
    "import pandas as pd\n",
    "from sklearn.ensemble import RandomForestRegressor\n",
    "from sklearn.metrics import mean_absolute_error\n",
    "from sklearn.model_selection import train_test_split\n",
    "import sys \n",
    "\n",
    "def get_mae_on_max_leaf_nodes(max_leaf_node, train_X, val_X, train_y, val_y) -> float:\n",
    "    # Define a random forest model\n",
    "    rf_model = RandomForestRegressor(max_leaf_nodes=max_leaf_node, random_state=1)\n",
    "    rf_model.fit(train_X, train_y)\n",
    "    rf_val_predictions = rf_model.predict(val_X)\n",
    "    rf_val_mae = mean_absolute_error(rf_val_predictions, val_y)\n",
    "    #print(\"Validation MAE for Random Forest Model: {:,.0f}\".format(rf_val_mae))\n",
    "    return rf_val_mae\n",
    "\n",
    "def get_mae_based_on_estimators(estimators, max_leaf_node, train_X, val_X, train_y, val_y) -> float:\n",
    "    # Define a random forest model\n",
    "    rf_model = RandomForestRegressor(max_leaf_nodes=max_leaf_node, n_estimators=estimators, random_state=1)\n",
    "    rf_model.fit(train_X, train_y)\n",
    "    rf_val_predictions = rf_model.predict(val_X)\n",
    "    rf_val_mae = mean_absolute_error(rf_val_predictions, val_y)\n",
    "    print(f\"max_leaf_node: {max_leaf_node}, n_estimators: {estimators}, MAE: {rf_val_mae:,.0f}\")\n",
    "    return rf_val_mae\n",
    "\n",
    "# Load the data, and separate the target\n",
    "iowa_file_path = '../input/train.csv'\n",
    "home_data = pd.read_csv(iowa_file_path)\n",
    "y = home_data.SalePrice\n",
    "\n",
    "# Create X (After completing the exercise, you can return to modify this line!)\n",
    "features = ['LotArea', 'YearBuilt', '1stFlrSF', '2ndFlrSF', 'FullBath', 'BedroomAbvGr', 'TotRmsAbvGrd', 'OverallQual','LowQualFinSF','GrLivArea','KitchenAbvGr','WoodDeckSF','OpenPorchSF','ScreenPorch','PoolArea','MiscVal','MoSold','YrSold','HalfBath','OverallCond', 'YearRemodAdd', 'MSSubClass','EnclosedPorch', '3SsnPorch']\n",
    "\n",
    "# Select columns corresponding to features, and preview the data\n",
    "X = home_data[features]\n",
    "X.head()\n",
    "\n",
    "# Split into validation and training data\n",
    "train_X, val_X, train_y, val_y = train_test_split(X, y, random_state=1)\n",
    "\n",
    "optimal_mae_leaf = sys.float_info.max\n",
    "ideal_max_leaf_node = 0\n",
    "mae_results_leaf = []\n",
    "leaf_node_options = [750,760,770,780,790,800]\n",
    "\n",
    "#for max_leaf_node in leaf_node_options:\n",
    "#    returned_mae = get_mae_on_max_leaf_nodes(max_leaf_node, train_X, val_X, train_y, val_y)\n",
    "#    mae_results_leaf.append(returned_mae)\n",
    "#    if returned_mae < optimal_mae_leaf:\n",
    "#        optimal_mae_leaf = returned_mae\n",
    "#        ideal_max_leaf_node = max_leaf_node\n",
    "\n",
    "#print(f\"\\nOptimal MAE for max_leaf_nodes: {optimal_mae_leaf:,.0f}\")\n",
    "#print(f\"Ideal max_leaf_node: {ideal_max_leaf_node}\")\n",
    "\n",
    "optimal_mae_estimators = sys.float_info.max\n",
    "ideal_estimators = 0\n",
    "mae_results_estimators = []\n",
    "estimator_options = [100,2770,2775,2780,2790,2800]\n",
    "\n",
    "for max_leaf_node in leaf_node_options:\n",
    "    for estimator in estimator_options:\n",
    "        returned_mae = get_mae_based_on_estimators(estimator, max_leaf_node, train_X, val_X, train_y, val_y)\n",
    "        mae_results_estimators.append(returned_mae)\n",
    "        if returned_mae < optimal_mae_estimators:\n",
    "            optimal_mae_estimators = returned_mae\n",
    "            ideal_max_leaf_node = max_leaf_node\n",
    "            ideal_estimators = estimator\n",
    "\n",
    "print(f\"optimal_mae:: {optimal_mae_estimators}\")\n",
    "print(f\"ideal_max_leaf_node:: {ideal_max_leaf_node}\")\n",
    "print(f\"ideal_estimators:: {ideal_estimators}\")"
   ]
  },
  {
   "cell_type": "markdown",
   "id": "b80e0b62",
   "metadata": {
    "papermill": {
     "duration": 0.004129,
     "end_time": "2025-06-18T16:06:09.017991",
     "exception": false,
     "start_time": "2025-06-18T16:06:09.013862",
     "status": "completed"
    },
    "tags": []
   },
   "source": [
    "# Train a model for the competition\n",
    "\n",
    "The code cell above trains a Random Forest model on **`train_X`** and **`train_y`**.  \n",
    "\n",
    "Use the code cell below to build a Random Forest model and train it on all of **`X`** and **`y`**."
   ]
  },
  {
   "cell_type": "code",
   "execution_count": 3,
   "id": "1305e81b",
   "metadata": {
    "execution": {
     "iopub.execute_input": "2025-06-18T16:06:09.028047Z",
     "iopub.status.busy": "2025-06-18T16:06:09.027722Z",
     "iopub.status.idle": "2025-06-18T16:06:38.516471Z",
     "shell.execute_reply": "2025-06-18T16:06:38.515514Z"
    },
    "papermill": {
     "duration": 29.495603,
     "end_time": "2025-06-18T16:06:38.517928",
     "exception": false,
     "start_time": "2025-06-18T16:06:09.022325",
     "status": "completed"
    },
    "tags": []
   },
   "outputs": [
    {
     "data": {
      "text/html": [
       "<style>#sk-container-id-1 {color: black;background-color: white;}#sk-container-id-1 pre{padding: 0;}#sk-container-id-1 div.sk-toggleable {background-color: white;}#sk-container-id-1 label.sk-toggleable__label {cursor: pointer;display: block;width: 100%;margin-bottom: 0;padding: 0.3em;box-sizing: border-box;text-align: center;}#sk-container-id-1 label.sk-toggleable__label-arrow:before {content: \"▸\";float: left;margin-right: 0.25em;color: #696969;}#sk-container-id-1 label.sk-toggleable__label-arrow:hover:before {color: black;}#sk-container-id-1 div.sk-estimator:hover label.sk-toggleable__label-arrow:before {color: black;}#sk-container-id-1 div.sk-toggleable__content {max-height: 0;max-width: 0;overflow: hidden;text-align: left;background-color: #f0f8ff;}#sk-container-id-1 div.sk-toggleable__content pre {margin: 0.2em;color: black;border-radius: 0.25em;background-color: #f0f8ff;}#sk-container-id-1 input.sk-toggleable__control:checked~div.sk-toggleable__content {max-height: 200px;max-width: 100%;overflow: auto;}#sk-container-id-1 input.sk-toggleable__control:checked~label.sk-toggleable__label-arrow:before {content: \"▾\";}#sk-container-id-1 div.sk-estimator input.sk-toggleable__control:checked~label.sk-toggleable__label {background-color: #d4ebff;}#sk-container-id-1 div.sk-label input.sk-toggleable__control:checked~label.sk-toggleable__label {background-color: #d4ebff;}#sk-container-id-1 input.sk-hidden--visually {border: 0;clip: rect(1px 1px 1px 1px);clip: rect(1px, 1px, 1px, 1px);height: 1px;margin: -1px;overflow: hidden;padding: 0;position: absolute;width: 1px;}#sk-container-id-1 div.sk-estimator {font-family: monospace;background-color: #f0f8ff;border: 1px dotted black;border-radius: 0.25em;box-sizing: border-box;margin-bottom: 0.5em;}#sk-container-id-1 div.sk-estimator:hover {background-color: #d4ebff;}#sk-container-id-1 div.sk-parallel-item::after {content: \"\";width: 100%;border-bottom: 1px solid gray;flex-grow: 1;}#sk-container-id-1 div.sk-label:hover label.sk-toggleable__label {background-color: #d4ebff;}#sk-container-id-1 div.sk-serial::before {content: \"\";position: absolute;border-left: 1px solid gray;box-sizing: border-box;top: 0;bottom: 0;left: 50%;z-index: 0;}#sk-container-id-1 div.sk-serial {display: flex;flex-direction: column;align-items: center;background-color: white;padding-right: 0.2em;padding-left: 0.2em;position: relative;}#sk-container-id-1 div.sk-item {position: relative;z-index: 1;}#sk-container-id-1 div.sk-parallel {display: flex;align-items: stretch;justify-content: center;background-color: white;position: relative;}#sk-container-id-1 div.sk-item::before, #sk-container-id-1 div.sk-parallel-item::before {content: \"\";position: absolute;border-left: 1px solid gray;box-sizing: border-box;top: 0;bottom: 0;left: 50%;z-index: -1;}#sk-container-id-1 div.sk-parallel-item {display: flex;flex-direction: column;z-index: 1;position: relative;background-color: white;}#sk-container-id-1 div.sk-parallel-item:first-child::after {align-self: flex-end;width: 50%;}#sk-container-id-1 div.sk-parallel-item:last-child::after {align-self: flex-start;width: 50%;}#sk-container-id-1 div.sk-parallel-item:only-child::after {width: 0;}#sk-container-id-1 div.sk-dashed-wrapped {border: 1px dashed gray;margin: 0 0.4em 0.5em 0.4em;box-sizing: border-box;padding-bottom: 0.4em;background-color: white;}#sk-container-id-1 div.sk-label label {font-family: monospace;font-weight: bold;display: inline-block;line-height: 1.2em;}#sk-container-id-1 div.sk-label-container {text-align: center;}#sk-container-id-1 div.sk-container {/* jupyter's `normalize.less` sets `[hidden] { display: none; }` but bootstrap.min.css set `[hidden] { display: none !important; }` so we also need the `!important` here to be able to override the default hidden behavior on the sphinx rendered scikit-learn.org. See: https://github.com/scikit-learn/scikit-learn/issues/21755 */display: inline-block !important;position: relative;}#sk-container-id-1 div.sk-text-repr-fallback {display: none;}</style><div id=\"sk-container-id-1\" class=\"sk-top-container\"><div class=\"sk-text-repr-fallback\"><pre>RandomForestRegressor(max_leaf_nodes=750, n_estimators=2775, random_state=1)</pre><b>In a Jupyter environment, please rerun this cell to show the HTML representation or trust the notebook. <br />On GitHub, the HTML representation is unable to render, please try loading this page with nbviewer.org.</b></div><div class=\"sk-container\" hidden><div class=\"sk-item\"><div class=\"sk-estimator sk-toggleable\"><input class=\"sk-toggleable__control sk-hidden--visually\" id=\"sk-estimator-id-1\" type=\"checkbox\" checked><label for=\"sk-estimator-id-1\" class=\"sk-toggleable__label sk-toggleable__label-arrow\">RandomForestRegressor</label><div class=\"sk-toggleable__content\"><pre>RandomForestRegressor(max_leaf_nodes=750, n_estimators=2775, random_state=1)</pre></div></div></div></div></div>"
      ],
      "text/plain": [
       "RandomForestRegressor(max_leaf_nodes=750, n_estimators=2775, random_state=1)"
      ]
     },
     "execution_count": 3,
     "metadata": {},
     "output_type": "execute_result"
    }
   ],
   "source": [
    "# To improve accuracy, create a new Random Forest model which you will train on all training data\n",
    "rf_model_on_full_data = RandomForestRegressor(max_leaf_nodes=ideal_max_leaf_node, n_estimators=ideal_estimators,random_state=1)\n",
    "\n",
    "# fit rf_model_on_full_data on all data from the training data\n",
    "rf_model_on_full_data.fit(X,y)"
   ]
  },
  {
   "cell_type": "markdown",
   "id": "5fec583e",
   "metadata": {
    "papermill": {
     "duration": 0.004471,
     "end_time": "2025-06-18T16:06:38.527277",
     "exception": false,
     "start_time": "2025-06-18T16:06:38.522806",
     "status": "completed"
    },
    "tags": []
   },
   "source": [
    "Now, read the file of \"test\" data, and apply your model to make predictions."
   ]
  },
  {
   "cell_type": "code",
   "execution_count": 4,
   "id": "39c323b9",
   "metadata": {
    "execution": {
     "iopub.execute_input": "2025-06-18T16:06:38.537685Z",
     "iopub.status.busy": "2025-06-18T16:06:38.537336Z",
     "iopub.status.idle": "2025-06-18T16:06:39.218006Z",
     "shell.execute_reply": "2025-06-18T16:06:39.217045Z"
    },
    "papermill": {
     "duration": 0.687836,
     "end_time": "2025-06-18T16:06:39.219693",
     "exception": false,
     "start_time": "2025-06-18T16:06:38.531857",
     "status": "completed"
    },
    "tags": []
   },
   "outputs": [],
   "source": [
    "# path to file you will use for predictions\n",
    "test_data_path = '../input/test.csv'\n",
    "\n",
    "# read test data file using pandas\n",
    "test_data = pd.read_csv(test_data_path)\n",
    "#test_data = test_data.dropna(axis=0)\n",
    "#print(len(test_data))\n",
    "# create test_X which comes from test_data but includes only the columns you used for prediction.\n",
    "# The list of columns is stored in a variable called features\n",
    "test_X = test_data[features]\n",
    "\n",
    "# make predictions which we will submit. \n",
    "test_preds = rf_model_on_full_data.predict(test_X)\n"
   ]
  },
  {
   "cell_type": "markdown",
   "id": "c431cb43",
   "metadata": {
    "papermill": {
     "duration": 0.004285,
     "end_time": "2025-06-18T16:06:39.228779",
     "exception": false,
     "start_time": "2025-06-18T16:06:39.224494",
     "status": "completed"
    },
    "tags": []
   },
   "source": [
    "Before submitting, run a check to make sure your `test_preds` have the right format."
   ]
  },
  {
   "cell_type": "code",
   "execution_count": 5,
   "id": "3d2b1779",
   "metadata": {
    "execution": {
     "iopub.execute_input": "2025-06-18T16:06:39.239047Z",
     "iopub.status.busy": "2025-06-18T16:06:39.238528Z",
     "iopub.status.idle": "2025-06-18T16:06:39.245108Z",
     "shell.execute_reply": "2025-06-18T16:06:39.244347Z"
    },
    "papermill": {
     "duration": 0.013194,
     "end_time": "2025-06-18T16:06:39.246397",
     "exception": false,
     "start_time": "2025-06-18T16:06:39.233203",
     "status": "completed"
    },
    "tags": []
   },
   "outputs": [
    {
     "data": {
      "application/javascript": [
       "parent.postMessage({\"jupyterEvent\": \"custom.exercise_interaction\", \"data\": {\"outcomeType\": 1, \"valueTowardsCompletion\": 1.0, \"interactionType\": 1, \"questionType\": 2, \"questionId\": \"1_CheckSubmittablePreds\", \"learnToolsVersion\": \"0.3.5\", \"failureMessage\": \"\", \"exceptionClass\": \"\", \"trace\": \"\"}}, \"*\")"
      ],
      "text/plain": [
       "<IPython.core.display.Javascript object>"
      ]
     },
     "metadata": {},
     "output_type": "display_data"
    },
    {
     "data": {
      "text/markdown": [
       "<span style=\"color:#33cc33\">Correct</span>"
      ],
      "text/plain": [
       "Correct"
      ]
     },
     "metadata": {},
     "output_type": "display_data"
    }
   ],
   "source": [
    "# Check your answer (To get credit for completing the exercise, you must get a \"Correct\" result!)\n",
    "step_1.check()\n",
    "# step_1.solution()"
   ]
  },
  {
   "cell_type": "markdown",
   "id": "0ae09b06",
   "metadata": {
    "papermill": {
     "duration": 0.00453,
     "end_time": "2025-06-18T16:06:39.255708",
     "exception": false,
     "start_time": "2025-06-18T16:06:39.251178",
     "status": "completed"
    },
    "tags": []
   },
   "source": [
    "# Generate a submission\n",
    "\n",
    "Run the code cell below to generate a CSV file with your predictions that you can use to submit to the competition."
   ]
  },
  {
   "cell_type": "code",
   "execution_count": 6,
   "id": "7994b6ea",
   "metadata": {
    "execution": {
     "iopub.execute_input": "2025-06-18T16:06:39.266251Z",
     "iopub.status.busy": "2025-06-18T16:06:39.265975Z",
     "iopub.status.idle": "2025-06-18T16:06:39.279381Z",
     "shell.execute_reply": "2025-06-18T16:06:39.278661Z"
    },
    "papermill": {
     "duration": 0.020424,
     "end_time": "2025-06-18T16:06:39.280889",
     "exception": false,
     "start_time": "2025-06-18T16:06:39.260465",
     "status": "completed"
    },
    "tags": []
   },
   "outputs": [],
   "source": [
    "# Run the code to save predictions in the format used for competition scoring\n",
    "output = pd.DataFrame({'Id': test_data.Id,\n",
    "                       'SalePrice': test_preds})\n",
    "output.to_csv('submission.csv', index=False)"
   ]
  },
  {
   "cell_type": "markdown",
   "id": "4c4fb497",
   "metadata": {
    "papermill": {
     "duration": 0.004439,
     "end_time": "2025-06-18T16:06:39.290153",
     "exception": false,
     "start_time": "2025-06-18T16:06:39.285714",
     "status": "completed"
    },
    "tags": []
   },
   "source": [
    "# Submit to the competition\n",
    "\n",
    "To test your results, you'll need to join the competition (if you haven't already).  So open a new window by clicking on **[this link](https://www.kaggle.com/c/home-data-for-ml-course)**.  Then click on the **Join Competition** button.\n",
    "\n",
    "![join competition image](https://storage.googleapis.com/kaggle-media/learn/images/axBzctl.png)\n",
    "\n",
    "Next, follow the instructions below:\n",
    "1. Begin by clicking on the **Save Version** button in the top right corner of the window.  This will generate a pop-up window.  \n",
    "2. Ensure that the **Save and Run All** option is selected, and then click on the **Save** button.\n",
    "3. This generates a window in the bottom left corner of the notebook.  After it has finished running, click on the number to the right of the **Save Version** button.  This pulls up a list of versions on the right of the screen.  Click on the ellipsis **(...)** to the right of the most recent version, and select **Open in Viewer**.  This brings you into view mode of the same page. You will need to scroll down to get back to these instructions.\n",
    "4. Click on the **Data** tab near the top of the screen.  Then, click on the file you would like to submit, and click on the **Submit** button to submit your results to the leaderboard.\n",
    "\n",
    "You have now successfully submitted to the competition!\n",
    "\n",
    "If you want to keep working to improve your performance, select the **Edit** button in the top right of the screen. Then you can change your code and repeat the process. There's a lot of room to improve, and you will climb up the leaderboard as you work.\n",
    "\n",
    "\n",
    "# Continue Your Progress\n",
    "There are many ways to improve your model, and **experimenting is a great way to learn at this point.**\n",
    "\n",
    "The best way to improve your model is to add features.  To add more features to the data, revisit the first code cell, and change this line of code to include more column names:\n",
    "```python\n",
    "features = ['LotArea', 'YearBuilt', '1stFlrSF', '2ndFlrSF', 'FullBath', 'BedroomAbvGr', 'TotRmsAbvGrd']\n",
    "```\n",
    "\n",
    "Some features will cause errors because of issues like missing values or non-numeric data types.  Here is a complete list of potential columns that you might like to use, and that won't throw errors:\n",
    "- 'MSSubClass'\n",
    "- 'LotArea'\n",
    "- 'OverallQual' \n",
    "- 'OverallCond' \n",
    "- 'YearBuilt'\n",
    "- 'YearRemodAdd' \n",
    "- '1stFlrSF'\n",
    "- '2ndFlrSF' \n",
    "- 'LowQualFinSF' \n",
    "- 'GrLivArea'\n",
    "- 'FullBath'\n",
    "- 'HalfBath'\n",
    "- 'BedroomAbvGr' \n",
    "- 'KitchenAbvGr' \n",
    "- 'TotRmsAbvGrd' \n",
    "- 'Fireplaces' \n",
    "- 'WoodDeckSF' \n",
    "- 'OpenPorchSF'\n",
    "- 'EnclosedPorch' \n",
    "- '3SsnPorch' \n",
    "- 'ScreenPorch' \n",
    "- 'PoolArea' \n",
    "- 'MiscVal' \n",
    "- 'MoSold' \n",
    "- 'YrSold'\n",
    "\n",
    "Look at the list of columns and think about what might affect home prices.  To learn more about each of these features, take a look at the data description on the **[competition page](https://www.kaggle.com/c/home-data-for-ml-course/data)**.\n",
    "\n",
    "After updating the code cell above that defines the features, re-run all of the code cells to evaluate the model and generate a new submission file.  \n",
    "\n",
    "\n",
    "# What's next?\n",
    "\n",
    "As mentioned above, some of the features will throw an error if you try to use them to train your model.  The **[Intermediate Machine Learning](https://www.kaggle.com/learn/intermediate-machine-learning)** course will teach you how to handle these types of features. You will also learn to use **xgboost**, a technique giving even better accuracy than Random Forest.\n",
    "\n",
    "The **[Pandas](https://kaggle.com/Learn/Pandas)** course will give you the data manipulation skills to quickly go from conceptual idea to implementation in your data science projects. \n",
    "\n",
    "You are also ready for the **[Deep Learning](https://kaggle.com/Learn/intro-to-Deep-Learning)** course, where you will build models with better-than-human level performance at computer vision tasks."
   ]
  },
  {
   "cell_type": "markdown",
   "id": "45a63c26",
   "metadata": {
    "papermill": {
     "duration": 0.004405,
     "end_time": "2025-06-18T16:06:39.299203",
     "exception": false,
     "start_time": "2025-06-18T16:06:39.294798",
     "status": "completed"
    },
    "tags": []
   },
   "source": [
    "---\n",
    "\n",
    "\n",
    "\n",
    "\n",
    "*Have questions or comments? Visit the [course discussion forum](https://www.kaggle.com/learn/intro-to-machine-learning/discussion) to chat with other learners.*"
   ]
  }
 ],
 "metadata": {
  "kaggle": {
   "accelerator": "none",
   "dataSources": [
    {
     "databundleVersionId": 111096,
     "sourceId": 10211,
     "sourceType": "competition"
    }
   ],
   "isGpuEnabled": false,
   "isInternetEnabled": false,
   "language": "python",
   "sourceType": "notebook"
  },
  "kernelspec": {
   "display_name": "Python 3",
   "language": "python",
   "name": "python3"
  },
  "language_info": {
   "codemirror_mode": {
    "name": "ipython",
    "version": 3
   },
   "file_extension": ".py",
   "mimetype": "text/x-python",
   "name": "python",
   "nbconvert_exporter": "python",
   "pygments_lexer": "ipython3",
   "version": "3.11.11"
  },
  "papermill": {
   "default_parameters": {},
   "duration": 737.66272,
   "end_time": "2025-06-18T16:06:40.025905",
   "environment_variables": {},
   "exception": null,
   "input_path": "__notebook__.ipynb",
   "output_path": "__notebook__.ipynb",
   "parameters": {},
   "start_time": "2025-06-18T15:54:22.363185",
   "version": "2.6.0"
  }
 },
 "nbformat": 4,
 "nbformat_minor": 5
}
