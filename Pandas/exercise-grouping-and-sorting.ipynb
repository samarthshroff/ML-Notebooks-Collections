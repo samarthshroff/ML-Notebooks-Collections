{
 "cells": [
  {
   "cell_type": "markdown",
   "id": "f3cf24a9",
   "metadata": {
    "papermill": {
     "duration": 0.005236,
     "end_time": "2025-06-18T15:43:16.633077",
     "exception": false,
     "start_time": "2025-06-18T15:43:16.627841",
     "status": "completed"
    },
    "tags": []
   },
   "source": [
    "**This notebook is an exercise in the [Pandas](https://www.kaggle.com/learn/pandas) course.  You can reference the tutorial at [this link](https://www.kaggle.com/residentmario/grouping-and-sorting).**\n",
    "\n",
    "---\n"
   ]
  },
  {
   "cell_type": "markdown",
   "id": "ebccf9fa",
   "metadata": {
    "papermill": {
     "duration": 0.003826,
     "end_time": "2025-06-18T15:43:16.641296",
     "exception": false,
     "start_time": "2025-06-18T15:43:16.637470",
     "status": "completed"
    },
    "tags": []
   },
   "source": [
    "# Introduction\n",
    "\n",
    "In these exercises we'll apply groupwise analysis to our dataset.\n",
    "\n",
    "Run the code cell below to load the data before running the exercises."
   ]
  },
  {
   "cell_type": "code",
   "execution_count": 1,
   "id": "f2129e18",
   "metadata": {
    "execution": {
     "iopub.execute_input": "2025-06-18T15:43:16.650765Z",
     "iopub.status.busy": "2025-06-18T15:43:16.650365Z",
     "iopub.status.idle": "2025-06-18T15:43:22.196753Z",
     "shell.execute_reply": "2025-06-18T15:43:22.195676Z"
    },
    "papermill": {
     "duration": 5.553271,
     "end_time": "2025-06-18T15:43:22.198613",
     "exception": false,
     "start_time": "2025-06-18T15:43:16.645342",
     "status": "completed"
    },
    "tags": []
   },
   "outputs": [
    {
     "name": "stdout",
     "output_type": "stream",
     "text": [
      "Setup complete.\n"
     ]
    },
    {
     "name": "stderr",
     "output_type": "stream",
     "text": [
      "/usr/local/lib/python3.11/dist-packages/learntools/pandas/grouping_and_sorting.py:29: FutureWarning: The provided callable <built-in function min> is currently using SeriesGroupBy.min. In a future version of pandas, the provided callable will be used directly. To keep current behavior pass the string \"min\" instead.\n",
      "  _expected = reviews.groupby('variety').price.agg([min, max])\n",
      "/usr/local/lib/python3.11/dist-packages/learntools/pandas/grouping_and_sorting.py:29: FutureWarning: The provided callable <built-in function max> is currently using SeriesGroupBy.max. In a future version of pandas, the provided callable will be used directly. To keep current behavior pass the string \"max\" instead.\n",
      "  _expected = reviews.groupby('variety').price.agg([min, max])\n",
      "/usr/local/lib/python3.11/dist-packages/learntools/pandas/grouping_and_sorting.py:35: FutureWarning: The provided callable <built-in function min> is currently using SeriesGroupBy.min. In a future version of pandas, the provided callable will be used directly. To keep current behavior pass the string \"min\" instead.\n",
      "  _expected = reviews.groupby('variety').price.agg([min, max]).sort_values(by=['min', 'max'], ascending=False)\n",
      "/usr/local/lib/python3.11/dist-packages/learntools/pandas/grouping_and_sorting.py:35: FutureWarning: The provided callable <built-in function max> is currently using SeriesGroupBy.max. In a future version of pandas, the provided callable will be used directly. To keep current behavior pass the string \"max\" instead.\n",
      "  _expected = reviews.groupby('variety').price.agg([min, max]).sort_values(by=['min', 'max'], ascending=False)\n"
     ]
    }
   ],
   "source": [
    "import pandas as pd\n",
    "\n",
    "reviews = pd.read_csv(\"../input/wine-reviews/winemag-data-130k-v2.csv\", index_col=0)\n",
    "#pd.set_option(\"display.max_rows\", 5)\n",
    "\n",
    "from learntools.core import binder; binder.bind(globals())\n",
    "from learntools.pandas.grouping_and_sorting import *\n",
    "print(\"Setup complete.\")"
   ]
  },
  {
   "cell_type": "markdown",
   "id": "83c908ab",
   "metadata": {
    "papermill": {
     "duration": 0.004762,
     "end_time": "2025-06-18T15:43:22.208286",
     "exception": false,
     "start_time": "2025-06-18T15:43:22.203524",
     "status": "completed"
    },
    "tags": []
   },
   "source": [
    "# Exercises"
   ]
  },
  {
   "cell_type": "markdown",
   "id": "0fa4422e",
   "metadata": {
    "papermill": {
     "duration": 0.004407,
     "end_time": "2025-06-18T15:43:22.217116",
     "exception": false,
     "start_time": "2025-06-18T15:43:22.212709",
     "status": "completed"
    },
    "tags": []
   },
   "source": [
    "## 1.\n",
    "Who are the most common wine reviewers in the dataset? Create a `Series` whose index is the `taster_twitter_handle` category from the dataset, and whose values count how many reviews each person wrote."
   ]
  },
  {
   "cell_type": "code",
   "execution_count": 2,
   "id": "2eb69434",
   "metadata": {
    "execution": {
     "iopub.execute_input": "2025-06-18T15:43:22.227288Z",
     "iopub.status.busy": "2025-06-18T15:43:22.226995Z",
     "iopub.status.idle": "2025-06-18T15:43:22.252872Z",
     "shell.execute_reply": "2025-06-18T15:43:22.251922Z"
    },
    "papermill": {
     "duration": 0.03292,
     "end_time": "2025-06-18T15:43:22.254306",
     "exception": false,
     "start_time": "2025-06-18T15:43:22.221386",
     "status": "completed"
    },
    "tags": []
   },
   "outputs": [
    {
     "data": {
      "application/javascript": [
       "parent.postMessage({\"jupyterEvent\": \"custom.exercise_interaction\", \"data\": {\"outcomeType\": 1, \"valueTowardsCompletion\": 0.16666666666666666, \"interactionType\": 1, \"questionType\": 1, \"questionId\": \"1_ReviewsWritten\", \"learnToolsVersion\": \"0.3.5\", \"failureMessage\": \"\", \"exceptionClass\": \"\", \"trace\": \"\"}}, \"*\")"
      ],
      "text/plain": [
       "<IPython.core.display.Javascript object>"
      ]
     },
     "metadata": {},
     "output_type": "display_data"
    },
    {
     "data": {
      "text/markdown": [
       "<span style=\"color:#33cc33\">Correct:</span> \n",
       "\n",
       "\n",
       "```python\n",
       "reviews_written = reviews.groupby('taster_twitter_handle').size()\n",
       "```\n",
       "or\n",
       "```python\n",
       "reviews_written = reviews.groupby('taster_twitter_handle').taster_twitter_handle.count()\n",
       "```\n"
      ],
      "text/plain": [
       "Correct: \n",
       "\n",
       "\n",
       "```python\n",
       "reviews_written = reviews.groupby('taster_twitter_handle').size()\n",
       "```\n",
       "or\n",
       "```python\n",
       "reviews_written = reviews.groupby('taster_twitter_handle').taster_twitter_handle.count()\n",
       "```"
      ]
     },
     "metadata": {},
     "output_type": "display_data"
    }
   ],
   "source": [
    "# Your code here\n",
    "\n",
    "#print(help(reviews.groupby))\n",
    "reviews_written = reviews.groupby(by=['taster_twitter_handle']).taster_twitter_handle.count()\n",
    "\n",
    "# Check your answer\n",
    "q1.check()"
   ]
  },
  {
   "cell_type": "code",
   "execution_count": 3,
   "id": "0c60911a",
   "metadata": {
    "execution": {
     "iopub.execute_input": "2025-06-18T15:43:22.265121Z",
     "iopub.status.busy": "2025-06-18T15:43:22.264402Z",
     "iopub.status.idle": "2025-06-18T15:43:22.268303Z",
     "shell.execute_reply": "2025-06-18T15:43:22.267457Z"
    },
    "papermill": {
     "duration": 0.010875,
     "end_time": "2025-06-18T15:43:22.269900",
     "exception": false,
     "start_time": "2025-06-18T15:43:22.259025",
     "status": "completed"
    },
    "tags": []
   },
   "outputs": [],
   "source": [
    "#q1.hint()\n",
    "#q1.solution()"
   ]
  },
  {
   "cell_type": "markdown",
   "id": "0726b2b2",
   "metadata": {
    "papermill": {
     "duration": 0.004377,
     "end_time": "2025-06-18T15:43:22.278905",
     "exception": false,
     "start_time": "2025-06-18T15:43:22.274528",
     "status": "completed"
    },
    "tags": []
   },
   "source": [
    "## 2.\n",
    "What is the best wine I can buy for a given amount of money? Create a `Series` whose index is wine prices and whose values is the maximum number of points a wine costing that much was given in a review. Sort the values by price, ascending (so that `4.0` dollars is at the top and `3300.0` dollars is at the bottom)."
   ]
  },
  {
   "cell_type": "code",
   "execution_count": 4,
   "id": "c208abab",
   "metadata": {
    "execution": {
     "iopub.execute_input": "2025-06-18T15:43:22.289740Z",
     "iopub.status.busy": "2025-06-18T15:43:22.289382Z",
     "iopub.status.idle": "2025-06-18T15:43:22.301561Z",
     "shell.execute_reply": "2025-06-18T15:43:22.300611Z"
    },
    "papermill": {
     "duration": 0.01968,
     "end_time": "2025-06-18T15:43:22.303381",
     "exception": false,
     "start_time": "2025-06-18T15:43:22.283701",
     "status": "completed"
    },
    "tags": []
   },
   "outputs": [
    {
     "data": {
      "application/javascript": [
       "parent.postMessage({\"jupyterEvent\": \"custom.exercise_interaction\", \"data\": {\"outcomeType\": 1, \"valueTowardsCompletion\": 0.16666666666666666, \"interactionType\": 1, \"questionType\": 1, \"questionId\": \"2_BestRatingPerPrice\", \"learnToolsVersion\": \"0.3.5\", \"failureMessage\": \"\", \"exceptionClass\": \"\", \"trace\": \"\"}}, \"*\")"
      ],
      "text/plain": [
       "<IPython.core.display.Javascript object>"
      ]
     },
     "metadata": {},
     "output_type": "display_data"
    },
    {
     "data": {
      "text/markdown": [
       "<span style=\"color:#33cc33\">Correct</span>"
      ],
      "text/plain": [
       "Correct"
      ]
     },
     "metadata": {},
     "output_type": "display_data"
    }
   ],
   "source": [
    "best_rating_per_price = reviews.groupby('price')['points'].max().sort_index()\n",
    "\n",
    "# Check your answer\n",
    "q2.check()"
   ]
  },
  {
   "cell_type": "code",
   "execution_count": 5,
   "id": "645b1f7c",
   "metadata": {
    "execution": {
     "iopub.execute_input": "2025-06-18T15:43:22.315552Z",
     "iopub.status.busy": "2025-06-18T15:43:22.315216Z",
     "iopub.status.idle": "2025-06-18T15:43:22.319466Z",
     "shell.execute_reply": "2025-06-18T15:43:22.318495Z"
    },
    "papermill": {
     "duration": 0.011448,
     "end_time": "2025-06-18T15:43:22.320937",
     "exception": false,
     "start_time": "2025-06-18T15:43:22.309489",
     "status": "completed"
    },
    "tags": []
   },
   "outputs": [],
   "source": [
    "#q2.hint()\n",
    "#q2.solution()"
   ]
  },
  {
   "cell_type": "markdown",
   "id": "4bab34fa",
   "metadata": {
    "papermill": {
     "duration": 0.004386,
     "end_time": "2025-06-18T15:43:22.330141",
     "exception": false,
     "start_time": "2025-06-18T15:43:22.325755",
     "status": "completed"
    },
    "tags": []
   },
   "source": [
    "## 3.\n",
    "What are the minimum and maximum prices for each `variety` of wine? Create a `DataFrame` whose index is the `variety` category from the dataset and whose values are the `min` and `max` values thereof."
   ]
  },
  {
   "cell_type": "code",
   "execution_count": 6,
   "id": "f8a57ad9",
   "metadata": {
    "execution": {
     "iopub.execute_input": "2025-06-18T15:43:22.340756Z",
     "iopub.status.busy": "2025-06-18T15:43:22.340417Z",
     "iopub.status.idle": "2025-06-18T15:43:22.364029Z",
     "shell.execute_reply": "2025-06-18T15:43:22.363162Z"
    },
    "papermill": {
     "duration": 0.030495,
     "end_time": "2025-06-18T15:43:22.365379",
     "exception": false,
     "start_time": "2025-06-18T15:43:22.334884",
     "status": "completed"
    },
    "tags": []
   },
   "outputs": [
    {
     "name": "stderr",
     "output_type": "stream",
     "text": [
      "/tmp/ipykernel_13/90559066.py:1: FutureWarning: The provided callable <built-in function min> is currently using SeriesGroupBy.min. In a future version of pandas, the provided callable will be used directly. To keep current behavior pass the string \"min\" instead.\n",
      "  price_extremes = reviews.groupby(['variety']).price.agg([min,max])\n",
      "/tmp/ipykernel_13/90559066.py:1: FutureWarning: The provided callable <built-in function max> is currently using SeriesGroupBy.max. In a future version of pandas, the provided callable will be used directly. To keep current behavior pass the string \"max\" instead.\n",
      "  price_extremes = reviews.groupby(['variety']).price.agg([min,max])\n"
     ]
    },
    {
     "data": {
      "application/javascript": [
       "parent.postMessage({\"jupyterEvent\": \"custom.exercise_interaction\", \"data\": {\"outcomeType\": 1, \"valueTowardsCompletion\": 0.16666666666666666, \"interactionType\": 1, \"questionType\": 1, \"questionId\": \"3_PriceExtremes\", \"learnToolsVersion\": \"0.3.5\", \"failureMessage\": \"\", \"exceptionClass\": \"\", \"trace\": \"\"}}, \"*\")"
      ],
      "text/plain": [
       "<IPython.core.display.Javascript object>"
      ]
     },
     "metadata": {},
     "output_type": "display_data"
    },
    {
     "data": {
      "text/markdown": [
       "<span style=\"color:#33cc33\">Correct</span>"
      ],
      "text/plain": [
       "Correct"
      ]
     },
     "metadata": {},
     "output_type": "display_data"
    }
   ],
   "source": [
    "price_extremes = reviews.groupby(['variety']).price.agg([min,max])\n",
    "\n",
    "# Check your answer\n",
    "q3.check()"
   ]
  },
  {
   "cell_type": "code",
   "execution_count": 7,
   "id": "5c17e055",
   "metadata": {
    "execution": {
     "iopub.execute_input": "2025-06-18T15:43:22.377122Z",
     "iopub.status.busy": "2025-06-18T15:43:22.376825Z",
     "iopub.status.idle": "2025-06-18T15:43:22.380708Z",
     "shell.execute_reply": "2025-06-18T15:43:22.379914Z"
    },
    "papermill": {
     "duration": 0.01157,
     "end_time": "2025-06-18T15:43:22.382087",
     "exception": false,
     "start_time": "2025-06-18T15:43:22.370517",
     "status": "completed"
    },
    "tags": []
   },
   "outputs": [],
   "source": [
    "#q3.hint()\n",
    "#q3.solution()"
   ]
  },
  {
   "cell_type": "markdown",
   "id": "fa57ec71",
   "metadata": {
    "papermill": {
     "duration": 0.004803,
     "end_time": "2025-06-18T15:43:22.392834",
     "exception": false,
     "start_time": "2025-06-18T15:43:22.388031",
     "status": "completed"
    },
    "tags": []
   },
   "source": [
    "## 4.\n",
    "What are the most expensive wine varieties? Create a variable `sorted_varieties` containing a copy of the dataframe from the previous question where varieties are sorted in descending order based on minimum price, then on maximum price (to break ties)."
   ]
  },
  {
   "cell_type": "code",
   "execution_count": 8,
   "id": "977bb68a",
   "metadata": {
    "execution": {
     "iopub.execute_input": "2025-06-18T15:43:22.404318Z",
     "iopub.status.busy": "2025-06-18T15:43:22.403952Z",
     "iopub.status.idle": "2025-06-18T15:43:22.414476Z",
     "shell.execute_reply": "2025-06-18T15:43:22.413488Z"
    },
    "papermill": {
     "duration": 0.018218,
     "end_time": "2025-06-18T15:43:22.416213",
     "exception": false,
     "start_time": "2025-06-18T15:43:22.397995",
     "status": "completed"
    },
    "tags": []
   },
   "outputs": [
    {
     "data": {
      "application/javascript": [
       "parent.postMessage({\"jupyterEvent\": \"custom.exercise_interaction\", \"data\": {\"outcomeType\": 1, \"valueTowardsCompletion\": 0.16666666666666666, \"interactionType\": 1, \"questionType\": 1, \"questionId\": \"4_SortedVarieties\", \"learnToolsVersion\": \"0.3.5\", \"failureMessage\": \"\", \"exceptionClass\": \"\", \"trace\": \"\"}}, \"*\")"
      ],
      "text/plain": [
       "<IPython.core.display.Javascript object>"
      ]
     },
     "metadata": {},
     "output_type": "display_data"
    },
    {
     "data": {
      "text/markdown": [
       "<span style=\"color:#33cc33\">Correct</span>"
      ],
      "text/plain": [
       "Correct"
      ]
     },
     "metadata": {},
     "output_type": "display_data"
    }
   ],
   "source": [
    "sorted_varieties = price_extremes.sort_values(by=['min','max'], ascending=False)\n",
    "\n",
    "# Check your answer\n",
    "q4.check()"
   ]
  },
  {
   "cell_type": "code",
   "execution_count": 9,
   "id": "ccc0bdf8",
   "metadata": {
    "execution": {
     "iopub.execute_input": "2025-06-18T15:43:22.428111Z",
     "iopub.status.busy": "2025-06-18T15:43:22.427812Z",
     "iopub.status.idle": "2025-06-18T15:43:22.431495Z",
     "shell.execute_reply": "2025-06-18T15:43:22.430661Z"
    },
    "papermill": {
     "duration": 0.011481,
     "end_time": "2025-06-18T15:43:22.433123",
     "exception": false,
     "start_time": "2025-06-18T15:43:22.421642",
     "status": "completed"
    },
    "tags": []
   },
   "outputs": [],
   "source": [
    "#q4.hint()\n",
    "#q4.solution()"
   ]
  },
  {
   "cell_type": "markdown",
   "id": "54116862",
   "metadata": {
    "papermill": {
     "duration": 0.004955,
     "end_time": "2025-06-18T15:43:22.443346",
     "exception": false,
     "start_time": "2025-06-18T15:43:22.438391",
     "status": "completed"
    },
    "tags": []
   },
   "source": [
    "## 5.\n",
    "Create a `Series` whose index is reviewers and whose values is the average review score given out by that reviewer. Hint: you will need the `taster_name` and `points` columns."
   ]
  },
  {
   "cell_type": "code",
   "execution_count": 10,
   "id": "b29e6a70",
   "metadata": {
    "execution": {
     "iopub.execute_input": "2025-06-18T15:43:22.455778Z",
     "iopub.status.busy": "2025-06-18T15:43:22.455438Z",
     "iopub.status.idle": "2025-06-18T15:43:22.474897Z",
     "shell.execute_reply": "2025-06-18T15:43:22.473903Z"
    },
    "papermill": {
     "duration": 0.027203,
     "end_time": "2025-06-18T15:43:22.476464",
     "exception": false,
     "start_time": "2025-06-18T15:43:22.449261",
     "status": "completed"
    },
    "tags": []
   },
   "outputs": [
    {
     "data": {
      "application/javascript": [
       "parent.postMessage({\"jupyterEvent\": \"custom.exercise_interaction\", \"data\": {\"outcomeType\": 1, \"valueTowardsCompletion\": 0.16666666666666666, \"interactionType\": 1, \"questionType\": 1, \"questionId\": \"5_ReviewerMeanRatings\", \"learnToolsVersion\": \"0.3.5\", \"failureMessage\": \"\", \"exceptionClass\": \"\", \"trace\": \"\"}}, \"*\")"
      ],
      "text/plain": [
       "<IPython.core.display.Javascript object>"
      ]
     },
     "metadata": {},
     "output_type": "display_data"
    },
    {
     "data": {
      "text/markdown": [
       "<span style=\"color:#33cc33\">Correct</span>"
      ],
      "text/plain": [
       "Correct"
      ]
     },
     "metadata": {},
     "output_type": "display_data"
    }
   ],
   "source": [
    "reviewer_mean_ratings = reviews.groupby(['taster_name'])['points'].mean()\n",
    "\n",
    "# Check your answer\n",
    "q5.check()"
   ]
  },
  {
   "cell_type": "code",
   "execution_count": 11,
   "id": "6615b56d",
   "metadata": {
    "execution": {
     "iopub.execute_input": "2025-06-18T15:43:22.489581Z",
     "iopub.status.busy": "2025-06-18T15:43:22.489233Z",
     "iopub.status.idle": "2025-06-18T15:43:22.493033Z",
     "shell.execute_reply": "2025-06-18T15:43:22.492278Z"
    },
    "papermill": {
     "duration": 0.012357,
     "end_time": "2025-06-18T15:43:22.494560",
     "exception": false,
     "start_time": "2025-06-18T15:43:22.482203",
     "status": "completed"
    },
    "tags": []
   },
   "outputs": [],
   "source": [
    "#q5.hint()\n",
    "#q5.solution()"
   ]
  },
  {
   "cell_type": "markdown",
   "id": "a536805d",
   "metadata": {
    "papermill": {
     "duration": 0.005669,
     "end_time": "2025-06-18T15:43:22.505742",
     "exception": false,
     "start_time": "2025-06-18T15:43:22.500073",
     "status": "completed"
    },
    "tags": []
   },
   "source": [
    "Are there significant differences in the average scores assigned by the various reviewers? Run the cell below to use the `describe()` method to see a summary of the range of values."
   ]
  },
  {
   "cell_type": "code",
   "execution_count": 12,
   "id": "35e52629",
   "metadata": {
    "execution": {
     "iopub.execute_input": "2025-06-18T15:43:22.518477Z",
     "iopub.status.busy": "2025-06-18T15:43:22.518126Z",
     "iopub.status.idle": "2025-06-18T15:43:22.531475Z",
     "shell.execute_reply": "2025-06-18T15:43:22.530662Z"
    },
    "papermill": {
     "duration": 0.021165,
     "end_time": "2025-06-18T15:43:22.532953",
     "exception": false,
     "start_time": "2025-06-18T15:43:22.511788",
     "status": "completed"
    },
    "tags": []
   },
   "outputs": [
    {
     "data": {
      "text/plain": [
       "count    19.000000\n",
       "mean     88.233026\n",
       "std       1.243610\n",
       "min      85.855422\n",
       "25%      87.323501\n",
       "50%      88.536235\n",
       "75%      88.975256\n",
       "max      90.562551\n",
       "Name: points, dtype: float64"
      ]
     },
     "execution_count": 12,
     "metadata": {},
     "output_type": "execute_result"
    }
   ],
   "source": [
    "reviewer_mean_ratings.describe()"
   ]
  },
  {
   "cell_type": "markdown",
   "id": "a7908e2d",
   "metadata": {
    "papermill": {
     "duration": 0.005405,
     "end_time": "2025-06-18T15:43:22.544194",
     "exception": false,
     "start_time": "2025-06-18T15:43:22.538789",
     "status": "completed"
    },
    "tags": []
   },
   "source": [
    "## 6.\n",
    "What combination of countries and varieties are most common? Create a `Series` whose index is a `MultiIndex`of `{country, variety}` pairs. For example, a pinot noir produced in the US should map to `{\"US\", \"Pinot Noir\"}`. Sort the values in the `Series` in descending order based on wine count."
   ]
  },
  {
   "cell_type": "code",
   "execution_count": 13,
   "id": "31761084",
   "metadata": {
    "execution": {
     "iopub.execute_input": "2025-06-18T15:43:22.558196Z",
     "iopub.status.busy": "2025-06-18T15:43:22.557888Z",
     "iopub.status.idle": "2025-06-18T15:43:22.595995Z",
     "shell.execute_reply": "2025-06-18T15:43:22.594845Z"
    },
    "papermill": {
     "duration": 0.048341,
     "end_time": "2025-06-18T15:43:22.598013",
     "exception": false,
     "start_time": "2025-06-18T15:43:22.549672",
     "status": "completed"
    },
    "tags": []
   },
   "outputs": [
    {
     "data": {
      "application/javascript": [
       "parent.postMessage({\"jupyterEvent\": \"custom.exercise_interaction\", \"data\": {\"outcomeType\": 1, \"valueTowardsCompletion\": 0.16666666666666666, \"interactionType\": 1, \"questionType\": 1, \"questionId\": \"6_GroupbyCountryVariety\", \"learnToolsVersion\": \"0.3.5\", \"failureMessage\": \"\", \"exceptionClass\": \"\", \"trace\": \"\"}}, \"*\")"
      ],
      "text/plain": [
       "<IPython.core.display.Javascript object>"
      ]
     },
     "metadata": {},
     "output_type": "display_data"
    },
    {
     "data": {
      "text/markdown": [
       "<span style=\"color:#33cc33\">Correct</span>"
      ],
      "text/plain": [
       "Correct"
      ]
     },
     "metadata": {},
     "output_type": "display_data"
    }
   ],
   "source": [
    "country_variety_counts = reviews.groupby(['country', 'variety']).size().sort_values(ascending=False)\n",
    "\n",
    "# Check your answer\n",
    "q6.check()"
   ]
  },
  {
   "cell_type": "code",
   "execution_count": 14,
   "id": "5ab32072",
   "metadata": {
    "execution": {
     "iopub.execute_input": "2025-06-18T15:43:22.612690Z",
     "iopub.status.busy": "2025-06-18T15:43:22.612296Z",
     "iopub.status.idle": "2025-06-18T15:43:22.616640Z",
     "shell.execute_reply": "2025-06-18T15:43:22.615504Z"
    },
    "papermill": {
     "duration": 0.013322,
     "end_time": "2025-06-18T15:43:22.618162",
     "exception": false,
     "start_time": "2025-06-18T15:43:22.604840",
     "status": "completed"
    },
    "tags": []
   },
   "outputs": [],
   "source": [
    "#q6.hint()\n",
    "#q6.solution()"
   ]
  },
  {
   "cell_type": "markdown",
   "id": "f6c5af1d",
   "metadata": {
    "papermill": {
     "duration": 0.005574,
     "end_time": "2025-06-18T15:43:22.629674",
     "exception": false,
     "start_time": "2025-06-18T15:43:22.624100",
     "status": "completed"
    },
    "tags": []
   },
   "source": [
    "# Keep going\n",
    "\n",
    "Move on to the [**data types and missing data**](https://www.kaggle.com/residentmario/data-types-and-missing-values)."
   ]
  },
  {
   "cell_type": "markdown",
   "id": "2000e607",
   "metadata": {
    "papermill": {
     "duration": 0.00631,
     "end_time": "2025-06-18T15:43:22.642505",
     "exception": false,
     "start_time": "2025-06-18T15:43:22.636195",
     "status": "completed"
    },
    "tags": []
   },
   "source": [
    "---\n",
    "\n",
    "\n",
    "\n",
    "\n",
    "*Have questions or comments? Visit the [course discussion forum](https://www.kaggle.com/learn/pandas/discussion) to chat with other learners.*"
   ]
  }
 ],
 "metadata": {
  "kaggle": {
   "accelerator": "none",
   "dataSources": [
    {
     "datasetId": 655,
     "sourceId": 1252,
     "sourceType": "datasetVersion"
    },
    {
     "datasetId": 2321,
     "sourceId": 3919,
     "sourceType": "datasetVersion"
    },
    {
     "datasetId": 2894,
     "sourceId": 4877,
     "sourceType": "datasetVersion"
    },
    {
     "datasetId": 3491,
     "sourceId": 5624,
     "sourceType": "datasetVersion"
    },
    {
     "datasetId": 1442,
     "sourceId": 8172,
     "sourceType": "datasetVersion"
    },
    {
     "datasetId": 9366,
     "sourceId": 13206,
     "sourceType": "datasetVersion"
    },
    {
     "datasetId": 179555,
     "sourceId": 403916,
     "sourceType": "datasetVersion"
    },
    {
     "datasetId": 4549,
     "sourceId": 466349,
     "sourceType": "datasetVersion"
    },
    {
     "datasetId": 2478,
     "sourceId": 1151655,
     "sourceType": "datasetVersion"
    },
    {
     "datasetId": 10128,
     "sourceId": 5438389,
     "sourceType": "datasetVersion"
    }
   ],
   "isGpuEnabled": false,
   "isInternetEnabled": false,
   "language": "python",
   "sourceType": "notebook"
  },
  "kernelspec": {
   "display_name": "Python 3",
   "language": "python",
   "name": "python3"
  },
  "language_info": {
   "codemirror_mode": {
    "name": "ipython",
    "version": 3
   },
   "file_extension": ".py",
   "mimetype": "text/x-python",
   "name": "python",
   "nbconvert_exporter": "python",
   "pygments_lexer": "ipython3",
   "version": "3.11.11"
  },
  "papermill": {
   "default_parameters": {},
   "duration": 11.889076,
   "end_time": "2025-06-18T15:43:23.269297",
   "environment_variables": {},
   "exception": null,
   "input_path": "__notebook__.ipynb",
   "output_path": "__notebook__.ipynb",
   "parameters": {},
   "start_time": "2025-06-18T15:43:11.380221",
   "version": "2.6.0"
  }
 },
 "nbformat": 4,
 "nbformat_minor": 5
}
