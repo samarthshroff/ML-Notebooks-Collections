{
 "cells": [
  {
   "cell_type": "markdown",
   "id": "89b05045",
   "metadata": {
    "papermill": {
     "duration": 0.006558,
     "end_time": "2025-06-18T15:43:50.674202",
     "exception": false,
     "start_time": "2025-06-18T15:43:50.667644",
     "status": "completed"
    },
    "tags": []
   },
   "source": [
    "**This notebook is an exercise in the [Pandas](https://www.kaggle.com/learn/pandas) course.  You can reference the tutorial at [this link](https://www.kaggle.com/residentmario/data-types-and-missing-values).**\n",
    "\n",
    "---\n"
   ]
  },
  {
   "cell_type": "markdown",
   "id": "66831ccf",
   "metadata": {
    "papermill": {
     "duration": 0.005584,
     "end_time": "2025-06-18T15:43:50.685679",
     "exception": false,
     "start_time": "2025-06-18T15:43:50.680095",
     "status": "completed"
    },
    "tags": []
   },
   "source": [
    "# Introduction\n",
    "\n",
    "Run the following cell to load your data and some utility functions."
   ]
  },
  {
   "cell_type": "code",
   "execution_count": 1,
   "id": "64fab715",
   "metadata": {
    "execution": {
     "iopub.execute_input": "2025-06-18T15:43:50.694137Z",
     "iopub.status.busy": "2025-06-18T15:43:50.693801Z",
     "iopub.status.idle": "2025-06-18T15:43:55.928481Z",
     "shell.execute_reply": "2025-06-18T15:43:55.927404Z"
    },
    "papermill": {
     "duration": 5.241071,
     "end_time": "2025-06-18T15:43:55.930334",
     "exception": false,
     "start_time": "2025-06-18T15:43:50.689263",
     "status": "completed"
    },
    "tags": []
   },
   "outputs": [
    {
     "name": "stdout",
     "output_type": "stream",
     "text": [
      "Setup complete.\n"
     ]
    }
   ],
   "source": [
    "import pandas as pd\n",
    "\n",
    "reviews = pd.read_csv(\"../input/wine-reviews/winemag-data-130k-v2.csv\", index_col=0)\n",
    "\n",
    "from learntools.core import binder; binder.bind(globals())\n",
    "from learntools.pandas.data_types_and_missing_data import *\n",
    "print(\"Setup complete.\")"
   ]
  },
  {
   "cell_type": "markdown",
   "id": "40eceabf",
   "metadata": {
    "papermill": {
     "duration": 0.003155,
     "end_time": "2025-06-18T15:43:55.937088",
     "exception": false,
     "start_time": "2025-06-18T15:43:55.933933",
     "status": "completed"
    },
    "tags": []
   },
   "source": [
    "# Exercises"
   ]
  },
  {
   "cell_type": "markdown",
   "id": "ecda28d0",
   "metadata": {
    "papermill": {
     "duration": 0.002982,
     "end_time": "2025-06-18T15:43:55.943327",
     "exception": false,
     "start_time": "2025-06-18T15:43:55.940345",
     "status": "completed"
    },
    "tags": []
   },
   "source": [
    "## 1. \n",
    "What is the data type of the `points` column in the dataset?"
   ]
  },
  {
   "cell_type": "code",
   "execution_count": 2,
   "id": "ff12a5da",
   "metadata": {
    "execution": {
     "iopub.execute_input": "2025-06-18T15:43:55.951117Z",
     "iopub.status.busy": "2025-06-18T15:43:55.950806Z",
     "iopub.status.idle": "2025-06-18T15:43:55.959197Z",
     "shell.execute_reply": "2025-06-18T15:43:55.958220Z"
    },
    "papermill": {
     "duration": 0.014092,
     "end_time": "2025-06-18T15:43:55.960644",
     "exception": false,
     "start_time": "2025-06-18T15:43:55.946552",
     "status": "completed"
    },
    "tags": []
   },
   "outputs": [
    {
     "data": {
      "application/javascript": [
       "parent.postMessage({\"jupyterEvent\": \"custom.exercise_interaction\", \"data\": {\"outcomeType\": 1, \"valueTowardsCompletion\": 0.25, \"interactionType\": 1, \"questionType\": 1, \"questionId\": \"1_PointsDtype\", \"learnToolsVersion\": \"0.3.5\", \"failureMessage\": \"\", \"exceptionClass\": \"\", \"trace\": \"\"}}, \"*\")"
      ],
      "text/plain": [
       "<IPython.core.display.Javascript object>"
      ]
     },
     "metadata": {},
     "output_type": "display_data"
    },
    {
     "data": {
      "text/markdown": [
       "<span style=\"color:#33cc33\">Correct</span>"
      ],
      "text/plain": [
       "Correct"
      ]
     },
     "metadata": {},
     "output_type": "display_data"
    }
   ],
   "source": [
    "# Your code here\n",
    "dtype = reviews.points.dtype\n",
    "\n",
    "# Check your answer\n",
    "q1.check()"
   ]
  },
  {
   "cell_type": "code",
   "execution_count": 3,
   "id": "c6c739de",
   "metadata": {
    "execution": {
     "iopub.execute_input": "2025-06-18T15:43:55.969253Z",
     "iopub.status.busy": "2025-06-18T15:43:55.968903Z",
     "iopub.status.idle": "2025-06-18T15:43:55.973270Z",
     "shell.execute_reply": "2025-06-18T15:43:55.972410Z"
    },
    "papermill": {
     "duration": 0.010589,
     "end_time": "2025-06-18T15:43:55.974932",
     "exception": false,
     "start_time": "2025-06-18T15:43:55.964343",
     "status": "completed"
    },
    "tags": []
   },
   "outputs": [],
   "source": [
    "#q1.hint()\n",
    "#q1.solution()"
   ]
  },
  {
   "cell_type": "markdown",
   "id": "627ff7ad",
   "metadata": {
    "papermill": {
     "duration": 0.003832,
     "end_time": "2025-06-18T15:43:55.982940",
     "exception": false,
     "start_time": "2025-06-18T15:43:55.979108",
     "status": "completed"
    },
    "tags": []
   },
   "source": [
    "## 2. \n",
    "Create a Series from entries in the `points` column, but convert the entries to strings. Hint: strings are `str` in native Python."
   ]
  },
  {
   "cell_type": "code",
   "execution_count": 4,
   "id": "6b0e62be",
   "metadata": {
    "execution": {
     "iopub.execute_input": "2025-06-18T15:43:55.991851Z",
     "iopub.status.busy": "2025-06-18T15:43:55.991514Z",
     "iopub.status.idle": "2025-06-18T15:43:56.036708Z",
     "shell.execute_reply": "2025-06-18T15:43:56.035632Z"
    },
    "papermill": {
     "duration": 0.051388,
     "end_time": "2025-06-18T15:43:56.038356",
     "exception": false,
     "start_time": "2025-06-18T15:43:55.986968",
     "status": "completed"
    },
    "tags": []
   },
   "outputs": [
    {
     "data": {
      "application/javascript": [
       "parent.postMessage({\"jupyterEvent\": \"custom.exercise_interaction\", \"data\": {\"outcomeType\": 1, \"valueTowardsCompletion\": 0.25, \"interactionType\": 1, \"questionType\": 1, \"questionId\": \"2_StrPoints\", \"learnToolsVersion\": \"0.3.5\", \"failureMessage\": \"\", \"exceptionClass\": \"\", \"trace\": \"\"}}, \"*\")"
      ],
      "text/plain": [
       "<IPython.core.display.Javascript object>"
      ]
     },
     "metadata": {},
     "output_type": "display_data"
    },
    {
     "data": {
      "text/markdown": [
       "<span style=\"color:#33cc33\">Correct</span>"
      ],
      "text/plain": [
       "Correct"
      ]
     },
     "metadata": {},
     "output_type": "display_data"
    }
   ],
   "source": [
    "point_strings = pd.Series(reviews.points).astype('str')\n",
    "\n",
    "# Check your answer\n",
    "q2.check()"
   ]
  },
  {
   "cell_type": "code",
   "execution_count": 5,
   "id": "783d5f77",
   "metadata": {
    "execution": {
     "iopub.execute_input": "2025-06-18T15:43:56.047823Z",
     "iopub.status.busy": "2025-06-18T15:43:56.047499Z",
     "iopub.status.idle": "2025-06-18T15:43:56.051701Z",
     "shell.execute_reply": "2025-06-18T15:43:56.050758Z"
    },
    "papermill": {
     "duration": 0.010578,
     "end_time": "2025-06-18T15:43:56.053291",
     "exception": false,
     "start_time": "2025-06-18T15:43:56.042713",
     "status": "completed"
    },
    "tags": []
   },
   "outputs": [],
   "source": [
    "#q2.hint()\n",
    "#q2.solution()"
   ]
  },
  {
   "cell_type": "markdown",
   "id": "26dcc25c",
   "metadata": {
    "papermill": {
     "duration": 0.003598,
     "end_time": "2025-06-18T15:43:56.060983",
     "exception": false,
     "start_time": "2025-06-18T15:43:56.057385",
     "status": "completed"
    },
    "tags": []
   },
   "source": [
    "## 3.\n",
    "Sometimes the price column is null. How many reviews in the dataset are missing a price?"
   ]
  },
  {
   "cell_type": "code",
   "execution_count": 6,
   "id": "64e37454",
   "metadata": {
    "execution": {
     "iopub.execute_input": "2025-06-18T15:43:56.070727Z",
     "iopub.status.busy": "2025-06-18T15:43:56.069837Z",
     "iopub.status.idle": "2025-06-18T15:43:56.079120Z",
     "shell.execute_reply": "2025-06-18T15:43:56.077946Z"
    },
    "papermill": {
     "duration": 0.015866,
     "end_time": "2025-06-18T15:43:56.080792",
     "exception": false,
     "start_time": "2025-06-18T15:43:56.064926",
     "status": "completed"
    },
    "tags": []
   },
   "outputs": [
    {
     "data": {
      "application/javascript": [
       "parent.postMessage({\"jupyterEvent\": \"custom.exercise_interaction\", \"data\": {\"outcomeType\": 1, \"valueTowardsCompletion\": 0.25, \"interactionType\": 1, \"questionType\": 1, \"questionId\": \"3_CountMissingPrices\", \"learnToolsVersion\": \"0.3.5\", \"failureMessage\": \"\", \"exceptionClass\": \"\", \"trace\": \"\"}}, \"*\")"
      ],
      "text/plain": [
       "<IPython.core.display.Javascript object>"
      ]
     },
     "metadata": {},
     "output_type": "display_data"
    },
    {
     "data": {
      "text/markdown": [
       "<span style=\"color:#33cc33\">Correct</span>"
      ],
      "text/plain": [
       "Correct"
      ]
     },
     "metadata": {},
     "output_type": "display_data"
    }
   ],
   "source": [
    "n_missing_prices = pd.isnull(reviews.price).sum()\n",
    "\n",
    "# Check your answer\n",
    "q3.check()"
   ]
  },
  {
   "cell_type": "code",
   "execution_count": 7,
   "id": "69a0c05d",
   "metadata": {
    "execution": {
     "iopub.execute_input": "2025-06-18T15:43:56.090997Z",
     "iopub.status.busy": "2025-06-18T15:43:56.090710Z",
     "iopub.status.idle": "2025-06-18T15:43:56.094935Z",
     "shell.execute_reply": "2025-06-18T15:43:56.093926Z"
    },
    "papermill": {
     "duration": 0.011128,
     "end_time": "2025-06-18T15:43:56.096529",
     "exception": false,
     "start_time": "2025-06-18T15:43:56.085401",
     "status": "completed"
    },
    "tags": []
   },
   "outputs": [],
   "source": [
    "#q3.hint()\n",
    "#q3.solution()"
   ]
  },
  {
   "cell_type": "markdown",
   "id": "49ef5292",
   "metadata": {
    "papermill": {
     "duration": 0.003757,
     "end_time": "2025-06-18T15:43:56.104459",
     "exception": false,
     "start_time": "2025-06-18T15:43:56.100702",
     "status": "completed"
    },
    "tags": []
   },
   "source": [
    "## 4.\n",
    "What are the most common wine-producing regions? Create a Series counting the number of times each value occurs in the `region_1` field. This field is often missing data, so replace missing values with `Unknown`. Sort in descending order.  Your output should look something like this:\n",
    "\n",
    "```\n",
    "Unknown                    21247\n",
    "Napa Valley                 4480\n",
    "                           ...  \n",
    "Bardolino Superiore            1\n",
    "Primitivo del Tarantino        1\n",
    "Name: region_1, Length: 1230, dtype: int64\n",
    "```"
   ]
  },
  {
   "cell_type": "code",
   "execution_count": 8,
   "id": "90001d82",
   "metadata": {
    "execution": {
     "iopub.execute_input": "2025-06-18T15:43:56.113354Z",
     "iopub.status.busy": "2025-06-18T15:43:56.113006Z",
     "iopub.status.idle": "2025-06-18T15:43:56.161478Z",
     "shell.execute_reply": "2025-06-18T15:43:56.160475Z"
    },
    "papermill": {
     "duration": 0.054742,
     "end_time": "2025-06-18T15:43:56.163058",
     "exception": false,
     "start_time": "2025-06-18T15:43:56.108316",
     "status": "completed"
    },
    "tags": []
   },
   "outputs": [
    {
     "data": {
      "application/javascript": [
       "parent.postMessage({\"jupyterEvent\": \"custom.exercise_interaction\", \"data\": {\"outcomeType\": 1, \"valueTowardsCompletion\": 0.25, \"interactionType\": 1, \"questionType\": 2, \"questionId\": \"4_ReviewsPerRegion\", \"learnToolsVersion\": \"0.3.5\", \"failureMessage\": \"\", \"exceptionClass\": \"\", \"trace\": \"\"}}, \"*\")"
      ],
      "text/plain": [
       "<IPython.core.display.Javascript object>"
      ]
     },
     "metadata": {},
     "output_type": "display_data"
    },
    {
     "data": {
      "text/markdown": [
       "<span style=\"color:#33cc33\">Correct</span>"
      ],
      "text/plain": [
       "Correct"
      ]
     },
     "metadata": {},
     "output_type": "display_data"
    }
   ],
   "source": [
    "reviews_per_region = reviews.region_1.fillna('Unknown').value_counts().sort_values(ascending=False)\n",
    "\n",
    "# Check your answer\n",
    "q4.check()"
   ]
  },
  {
   "cell_type": "code",
   "execution_count": 9,
   "id": "885d1f75",
   "metadata": {
    "execution": {
     "iopub.execute_input": "2025-06-18T15:43:56.173093Z",
     "iopub.status.busy": "2025-06-18T15:43:56.172796Z",
     "iopub.status.idle": "2025-06-18T15:43:56.177051Z",
     "shell.execute_reply": "2025-06-18T15:43:56.176073Z"
    },
    "papermill": {
     "duration": 0.011135,
     "end_time": "2025-06-18T15:43:56.178937",
     "exception": false,
     "start_time": "2025-06-18T15:43:56.167802",
     "status": "completed"
    },
    "tags": []
   },
   "outputs": [],
   "source": [
    "#q4.hint()\n",
    "#q4.solution()"
   ]
  },
  {
   "cell_type": "markdown",
   "id": "e8784f4b",
   "metadata": {
    "papermill": {
     "duration": 0.003988,
     "end_time": "2025-06-18T15:43:56.187373",
     "exception": false,
     "start_time": "2025-06-18T15:43:56.183385",
     "status": "completed"
    },
    "tags": []
   },
   "source": [
    "# Keep going\n",
    "\n",
    "Move on to **[renaming and combining](https://www.kaggle.com/residentmario/renaming-and-combining)**."
   ]
  },
  {
   "cell_type": "markdown",
   "id": "f09fc70e",
   "metadata": {
    "papermill": {
     "duration": 0.003803,
     "end_time": "2025-06-18T15:43:56.195315",
     "exception": false,
     "start_time": "2025-06-18T15:43:56.191512",
     "status": "completed"
    },
    "tags": []
   },
   "source": [
    "---\n",
    "\n",
    "\n",
    "\n",
    "\n",
    "*Have questions or comments? Visit the [course discussion forum](https://www.kaggle.com/learn/pandas/discussion) to chat with other learners.*"
   ]
  }
 ],
 "metadata": {
  "kaggle": {
   "accelerator": "none",
   "dataSources": [
    {
     "datasetId": 655,
     "sourceId": 1252,
     "sourceType": "datasetVersion"
    },
    {
     "datasetId": 2321,
     "sourceId": 3919,
     "sourceType": "datasetVersion"
    },
    {
     "datasetId": 2894,
     "sourceId": 4877,
     "sourceType": "datasetVersion"
    },
    {
     "datasetId": 3491,
     "sourceId": 5624,
     "sourceType": "datasetVersion"
    },
    {
     "datasetId": 1442,
     "sourceId": 8172,
     "sourceType": "datasetVersion"
    },
    {
     "datasetId": 9366,
     "sourceId": 13206,
     "sourceType": "datasetVersion"
    },
    {
     "datasetId": 179555,
     "sourceId": 403916,
     "sourceType": "datasetVersion"
    },
    {
     "datasetId": 4549,
     "sourceId": 466349,
     "sourceType": "datasetVersion"
    },
    {
     "datasetId": 2478,
     "sourceId": 1151655,
     "sourceType": "datasetVersion"
    },
    {
     "datasetId": 10128,
     "sourceId": 5438389,
     "sourceType": "datasetVersion"
    }
   ],
   "isGpuEnabled": false,
   "isInternetEnabled": false,
   "language": "python",
   "sourceType": "notebook"
  },
  "kernelspec": {
   "display_name": "Python 3",
   "language": "python",
   "name": "python3"
  },
  "language_info": {
   "codemirror_mode": {
    "name": "ipython",
    "version": 3
   },
   "file_extension": ".py",
   "mimetype": "text/x-python",
   "name": "python",
   "nbconvert_exporter": "python",
   "pygments_lexer": "ipython3",
   "version": "3.11.11"
  },
  "papermill": {
   "default_parameters": {},
   "duration": 10.926876,
   "end_time": "2025-06-18T15:43:56.719485",
   "environment_variables": {},
   "exception": null,
   "input_path": "__notebook__.ipynb",
   "output_path": "__notebook__.ipynb",
   "parameters": {},
   "start_time": "2025-06-18T15:43:45.792609",
   "version": "2.6.0"
  }
 },
 "nbformat": 4,
 "nbformat_minor": 5
}
