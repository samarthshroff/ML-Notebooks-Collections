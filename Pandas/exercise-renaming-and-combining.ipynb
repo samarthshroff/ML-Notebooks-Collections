{
 "cells": [
  {
   "cell_type": "markdown",
   "id": "18d33c93",
   "metadata": {
    "papermill": {
     "duration": 0.004681,
     "end_time": "2025-06-18T15:44:31.283901",
     "exception": false,
     "start_time": "2025-06-18T15:44:31.279220",
     "status": "completed"
    },
    "tags": []
   },
   "source": [
    "**This notebook is an exercise in the [Pandas](https://www.kaggle.com/learn/pandas) course.  You can reference the tutorial at [this link](https://www.kaggle.com/residentmario/renaming-and-combining).**\n",
    "\n",
    "---\n"
   ]
  },
  {
   "cell_type": "markdown",
   "id": "440e6136",
   "metadata": {
    "papermill": {
     "duration": 0.003596,
     "end_time": "2025-06-18T15:44:31.291871",
     "exception": false,
     "start_time": "2025-06-18T15:44:31.288275",
     "status": "completed"
    },
    "tags": []
   },
   "source": [
    "# Introduction\n",
    "\n",
    "Run the following cell to load your data and some utility functions."
   ]
  },
  {
   "cell_type": "code",
   "execution_count": 1,
   "id": "84df7b10",
   "metadata": {
    "execution": {
     "iopub.execute_input": "2025-06-18T15:44:31.301795Z",
     "iopub.status.busy": "2025-06-18T15:44:31.301378Z",
     "iopub.status.idle": "2025-06-18T15:44:38.037810Z",
     "shell.execute_reply": "2025-06-18T15:44:38.036672Z"
    },
    "papermill": {
     "duration": 6.743295,
     "end_time": "2025-06-18T15:44:38.039707",
     "exception": false,
     "start_time": "2025-06-18T15:44:31.296412",
     "status": "completed"
    },
    "tags": []
   },
   "outputs": [
    {
     "name": "stdout",
     "output_type": "stream",
     "text": [
      "Setup complete.\n"
     ]
    }
   ],
   "source": [
    "import pandas as pd\n",
    "\n",
    "reviews = pd.read_csv(\"../input/wine-reviews/winemag-data-130k-v2.csv\", index_col=0)\n",
    "\n",
    "from learntools.core import binder; binder.bind(globals())\n",
    "from learntools.pandas.renaming_and_combining import *\n",
    "print(\"Setup complete.\")"
   ]
  },
  {
   "cell_type": "markdown",
   "id": "b43b01dc",
   "metadata": {
    "papermill": {
     "duration": 0.004279,
     "end_time": "2025-06-18T15:44:38.048985",
     "exception": false,
     "start_time": "2025-06-18T15:44:38.044706",
     "status": "completed"
    },
    "tags": []
   },
   "source": [
    "# Exercises\n",
    "\n",
    "View the first several lines of your data by running the cell below:"
   ]
  },
  {
   "cell_type": "code",
   "execution_count": 2,
   "id": "40314c2b",
   "metadata": {
    "execution": {
     "iopub.execute_input": "2025-06-18T15:44:38.057795Z",
     "iopub.status.busy": "2025-06-18T15:44:38.057467Z",
     "iopub.status.idle": "2025-06-18T15:44:38.085525Z",
     "shell.execute_reply": "2025-06-18T15:44:38.083989Z"
    },
    "papermill": {
     "duration": 0.035597,
     "end_time": "2025-06-18T15:44:38.088402",
     "exception": false,
     "start_time": "2025-06-18T15:44:38.052805",
     "status": "completed"
    },
    "tags": []
   },
   "outputs": [
    {
     "name": "stderr",
     "output_type": "stream",
     "text": [
      "/usr/local/lib/python3.11/dist-packages/pandas/io/formats/format.py:1458: RuntimeWarning: invalid value encountered in greater\n",
      "  has_large_values = (abs_vals > 1e6).any()\n",
      "/usr/local/lib/python3.11/dist-packages/pandas/io/formats/format.py:1459: RuntimeWarning: invalid value encountered in less\n",
      "  has_small_values = ((abs_vals < 10 ** (-self.digits)) & (abs_vals > 0)).any()\n",
      "/usr/local/lib/python3.11/dist-packages/pandas/io/formats/format.py:1459: RuntimeWarning: invalid value encountered in greater\n",
      "  has_small_values = ((abs_vals < 10 ** (-self.digits)) & (abs_vals > 0)).any()\n"
     ]
    },
    {
     "data": {
      "text/html": [
       "<div>\n",
       "<style scoped>\n",
       "    .dataframe tbody tr th:only-of-type {\n",
       "        vertical-align: middle;\n",
       "    }\n",
       "\n",
       "    .dataframe tbody tr th {\n",
       "        vertical-align: top;\n",
       "    }\n",
       "\n",
       "    .dataframe thead th {\n",
       "        text-align: right;\n",
       "    }\n",
       "</style>\n",
       "<table border=\"1\" class=\"dataframe\">\n",
       "  <thead>\n",
       "    <tr style=\"text-align: right;\">\n",
       "      <th></th>\n",
       "      <th>country</th>\n",
       "      <th>description</th>\n",
       "      <th>designation</th>\n",
       "      <th>points</th>\n",
       "      <th>price</th>\n",
       "      <th>province</th>\n",
       "      <th>region_1</th>\n",
       "      <th>region_2</th>\n",
       "      <th>taster_name</th>\n",
       "      <th>taster_twitter_handle</th>\n",
       "      <th>title</th>\n",
       "      <th>variety</th>\n",
       "      <th>winery</th>\n",
       "    </tr>\n",
       "  </thead>\n",
       "  <tbody>\n",
       "    <tr>\n",
       "      <th>0</th>\n",
       "      <td>Italy</td>\n",
       "      <td>Aromas include tropical fruit, broom, brimston...</td>\n",
       "      <td>Vulkà Bianco</td>\n",
       "      <td>87</td>\n",
       "      <td>NaN</td>\n",
       "      <td>Sicily &amp; Sardinia</td>\n",
       "      <td>Etna</td>\n",
       "      <td>NaN</td>\n",
       "      <td>Kerin O’Keefe</td>\n",
       "      <td>@kerinokeefe</td>\n",
       "      <td>Nicosia 2013 Vulkà Bianco  (Etna)</td>\n",
       "      <td>White Blend</td>\n",
       "      <td>Nicosia</td>\n",
       "    </tr>\n",
       "    <tr>\n",
       "      <th>1</th>\n",
       "      <td>Portugal</td>\n",
       "      <td>This is ripe and fruity, a wine that is smooth...</td>\n",
       "      <td>Avidagos</td>\n",
       "      <td>87</td>\n",
       "      <td>15.0</td>\n",
       "      <td>Douro</td>\n",
       "      <td>NaN</td>\n",
       "      <td>NaN</td>\n",
       "      <td>Roger Voss</td>\n",
       "      <td>@vossroger</td>\n",
       "      <td>Quinta dos Avidagos 2011 Avidagos Red (Douro)</td>\n",
       "      <td>Portuguese Red</td>\n",
       "      <td>Quinta dos Avidagos</td>\n",
       "    </tr>\n",
       "    <tr>\n",
       "      <th>2</th>\n",
       "      <td>US</td>\n",
       "      <td>Tart and snappy, the flavors of lime flesh and...</td>\n",
       "      <td>NaN</td>\n",
       "      <td>87</td>\n",
       "      <td>14.0</td>\n",
       "      <td>Oregon</td>\n",
       "      <td>Willamette Valley</td>\n",
       "      <td>Willamette Valley</td>\n",
       "      <td>Paul Gregutt</td>\n",
       "      <td>@paulgwine</td>\n",
       "      <td>Rainstorm 2013 Pinot Gris (Willamette Valley)</td>\n",
       "      <td>Pinot Gris</td>\n",
       "      <td>Rainstorm</td>\n",
       "    </tr>\n",
       "    <tr>\n",
       "      <th>3</th>\n",
       "      <td>US</td>\n",
       "      <td>Pineapple rind, lemon pith and orange blossom ...</td>\n",
       "      <td>Reserve Late Harvest</td>\n",
       "      <td>87</td>\n",
       "      <td>13.0</td>\n",
       "      <td>Michigan</td>\n",
       "      <td>Lake Michigan Shore</td>\n",
       "      <td>NaN</td>\n",
       "      <td>Alexander Peartree</td>\n",
       "      <td>NaN</td>\n",
       "      <td>St. Julian 2013 Reserve Late Harvest Riesling ...</td>\n",
       "      <td>Riesling</td>\n",
       "      <td>St. Julian</td>\n",
       "    </tr>\n",
       "    <tr>\n",
       "      <th>4</th>\n",
       "      <td>US</td>\n",
       "      <td>Much like the regular bottling from 2012, this...</td>\n",
       "      <td>Vintner's Reserve Wild Child Block</td>\n",
       "      <td>87</td>\n",
       "      <td>65.0</td>\n",
       "      <td>Oregon</td>\n",
       "      <td>Willamette Valley</td>\n",
       "      <td>Willamette Valley</td>\n",
       "      <td>Paul Gregutt</td>\n",
       "      <td>@paulgwine</td>\n",
       "      <td>Sweet Cheeks 2012 Vintner's Reserve Wild Child...</td>\n",
       "      <td>Pinot Noir</td>\n",
       "      <td>Sweet Cheeks</td>\n",
       "    </tr>\n",
       "  </tbody>\n",
       "</table>\n",
       "</div>"
      ],
      "text/plain": [
       "    country                                        description  \\\n",
       "0     Italy  Aromas include tropical fruit, broom, brimston...   \n",
       "1  Portugal  This is ripe and fruity, a wine that is smooth...   \n",
       "2        US  Tart and snappy, the flavors of lime flesh and...   \n",
       "3        US  Pineapple rind, lemon pith and orange blossom ...   \n",
       "4        US  Much like the regular bottling from 2012, this...   \n",
       "\n",
       "                          designation  points  price           province  \\\n",
       "0                        Vulkà Bianco      87    NaN  Sicily & Sardinia   \n",
       "1                            Avidagos      87   15.0              Douro   \n",
       "2                                 NaN      87   14.0             Oregon   \n",
       "3                Reserve Late Harvest      87   13.0           Michigan   \n",
       "4  Vintner's Reserve Wild Child Block      87   65.0             Oregon   \n",
       "\n",
       "              region_1           region_2         taster_name  \\\n",
       "0                 Etna                NaN       Kerin O’Keefe   \n",
       "1                  NaN                NaN          Roger Voss   \n",
       "2    Willamette Valley  Willamette Valley        Paul Gregutt   \n",
       "3  Lake Michigan Shore                NaN  Alexander Peartree   \n",
       "4    Willamette Valley  Willamette Valley        Paul Gregutt   \n",
       "\n",
       "  taster_twitter_handle                                              title  \\\n",
       "0          @kerinokeefe                  Nicosia 2013 Vulkà Bianco  (Etna)   \n",
       "1            @vossroger      Quinta dos Avidagos 2011 Avidagos Red (Douro)   \n",
       "2           @paulgwine       Rainstorm 2013 Pinot Gris (Willamette Valley)   \n",
       "3                   NaN  St. Julian 2013 Reserve Late Harvest Riesling ...   \n",
       "4           @paulgwine   Sweet Cheeks 2012 Vintner's Reserve Wild Child...   \n",
       "\n",
       "          variety               winery  \n",
       "0     White Blend              Nicosia  \n",
       "1  Portuguese Red  Quinta dos Avidagos  \n",
       "2      Pinot Gris            Rainstorm  \n",
       "3        Riesling           St. Julian  \n",
       "4      Pinot Noir         Sweet Cheeks  "
      ]
     },
     "execution_count": 2,
     "metadata": {},
     "output_type": "execute_result"
    }
   ],
   "source": [
    "reviews.head()"
   ]
  },
  {
   "cell_type": "markdown",
   "id": "9465b39f",
   "metadata": {
    "papermill": {
     "duration": 0.003975,
     "end_time": "2025-06-18T15:44:38.096874",
     "exception": false,
     "start_time": "2025-06-18T15:44:38.092899",
     "status": "completed"
    },
    "tags": []
   },
   "source": [
    "## 1.\n",
    "`region_1` and `region_2` are pretty uninformative names for locale columns in the dataset. Create a copy of `reviews` with these columns renamed to `region` and `locale`, respectively."
   ]
  },
  {
   "cell_type": "code",
   "execution_count": 3,
   "id": "ffc2d55a",
   "metadata": {
    "execution": {
     "iopub.execute_input": "2025-06-18T15:44:38.109293Z",
     "iopub.status.busy": "2025-06-18T15:44:38.108934Z",
     "iopub.status.idle": "2025-06-18T15:44:38.131908Z",
     "shell.execute_reply": "2025-06-18T15:44:38.130392Z"
    },
    "papermill": {
     "duration": 0.032028,
     "end_time": "2025-06-18T15:44:38.133728",
     "exception": false,
     "start_time": "2025-06-18T15:44:38.101700",
     "status": "completed"
    },
    "tags": []
   },
   "outputs": [
    {
     "data": {
      "application/javascript": [
       "parent.postMessage({\"jupyterEvent\": \"custom.exercise_interaction\", \"data\": {\"outcomeType\": 1, \"valueTowardsCompletion\": 0.25, \"interactionType\": 1, \"questionType\": 1, \"questionId\": \"1_RenameCols\", \"learnToolsVersion\": \"0.3.5\", \"failureMessage\": \"\", \"exceptionClass\": \"\", \"trace\": \"\"}}, \"*\")"
      ],
      "text/plain": [
       "<IPython.core.display.Javascript object>"
      ]
     },
     "metadata": {},
     "output_type": "display_data"
    },
    {
     "data": {
      "text/markdown": [
       "<span style=\"color:#33cc33\">Correct</span>"
      ],
      "text/plain": [
       "Correct"
      ]
     },
     "metadata": {},
     "output_type": "display_data"
    }
   ],
   "source": [
    "# Your code here\n",
    "renamed = reviews.rename(columns={'region_1':'region', 'region_2':'locale'})\n",
    "\n",
    "# Check your answer\n",
    "q1.check()"
   ]
  },
  {
   "cell_type": "code",
   "execution_count": 4,
   "id": "50d7d443",
   "metadata": {
    "execution": {
     "iopub.execute_input": "2025-06-18T15:44:38.145290Z",
     "iopub.status.busy": "2025-06-18T15:44:38.144372Z",
     "iopub.status.idle": "2025-06-18T15:44:38.148775Z",
     "shell.execute_reply": "2025-06-18T15:44:38.147671Z"
    },
    "papermill": {
     "duration": 0.011765,
     "end_time": "2025-06-18T15:44:38.150273",
     "exception": false,
     "start_time": "2025-06-18T15:44:38.138508",
     "status": "completed"
    },
    "tags": []
   },
   "outputs": [],
   "source": [
    "#q1.hint()\n",
    "#q1.solution()"
   ]
  },
  {
   "cell_type": "markdown",
   "id": "23aaa77e",
   "metadata": {
    "papermill": {
     "duration": 0.004162,
     "end_time": "2025-06-18T15:44:38.159146",
     "exception": false,
     "start_time": "2025-06-18T15:44:38.154984",
     "status": "completed"
    },
    "tags": []
   },
   "source": [
    "## 2.\n",
    "Set the index name in the dataset to `wines`."
   ]
  },
  {
   "cell_type": "code",
   "execution_count": 5,
   "id": "7494f594",
   "metadata": {
    "execution": {
     "iopub.execute_input": "2025-06-18T15:44:38.170104Z",
     "iopub.status.busy": "2025-06-18T15:44:38.169793Z",
     "iopub.status.idle": "2025-06-18T15:44:38.189477Z",
     "shell.execute_reply": "2025-06-18T15:44:38.188525Z"
    },
    "papermill": {
     "duration": 0.027491,
     "end_time": "2025-06-18T15:44:38.190991",
     "exception": false,
     "start_time": "2025-06-18T15:44:38.163500",
     "status": "completed"
    },
    "tags": []
   },
   "outputs": [
    {
     "data": {
      "application/javascript": [
       "parent.postMessage({\"jupyterEvent\": \"custom.exercise_interaction\", \"data\": {\"outcomeType\": 1, \"valueTowardsCompletion\": 0.25, \"interactionType\": 1, \"questionType\": 1, \"questionId\": \"2_RenameIndex\", \"learnToolsVersion\": \"0.3.5\", \"failureMessage\": \"\", \"exceptionClass\": \"\", \"trace\": \"\"}}, \"*\")"
      ],
      "text/plain": [
       "<IPython.core.display.Javascript object>"
      ]
     },
     "metadata": {},
     "output_type": "display_data"
    },
    {
     "data": {
      "text/markdown": [
       "<span style=\"color:#33cc33\">Correct</span>"
      ],
      "text/plain": [
       "Correct"
      ]
     },
     "metadata": {},
     "output_type": "display_data"
    }
   ],
   "source": [
    "reindexed = reviews.rename_axis('wines', axis='rows')\n",
    "\n",
    "# Check your answer\n",
    "q2.check()"
   ]
  },
  {
   "cell_type": "code",
   "execution_count": 6,
   "id": "87e4c424",
   "metadata": {
    "execution": {
     "iopub.execute_input": "2025-06-18T15:44:38.203411Z",
     "iopub.status.busy": "2025-06-18T15:44:38.203099Z",
     "iopub.status.idle": "2025-06-18T15:44:38.207694Z",
     "shell.execute_reply": "2025-06-18T15:44:38.206697Z"
    },
    "papermill": {
     "duration": 0.013724,
     "end_time": "2025-06-18T15:44:38.209518",
     "exception": false,
     "start_time": "2025-06-18T15:44:38.195794",
     "status": "completed"
    },
    "tags": []
   },
   "outputs": [],
   "source": [
    "#q2.hint()\n",
    "#q2.solution()"
   ]
  },
  {
   "cell_type": "markdown",
   "id": "cb53dff7",
   "metadata": {
    "papermill": {
     "duration": 0.005855,
     "end_time": "2025-06-18T15:44:38.220230",
     "exception": false,
     "start_time": "2025-06-18T15:44:38.214375",
     "status": "completed"
    },
    "tags": []
   },
   "source": [
    "## 3.\n",
    "The [Things on Reddit](https://www.kaggle.com/residentmario/things-on-reddit/data) dataset includes product links from a selection of top-ranked forums (\"subreddits\") on reddit.com. Run the cell below to load a dataframe of products mentioned on the */r/gaming* subreddit and another dataframe for products mentioned on the *r//movies* subreddit."
   ]
  },
  {
   "cell_type": "code",
   "execution_count": 7,
   "id": "56e6a23d",
   "metadata": {
    "execution": {
     "iopub.execute_input": "2025-06-18T15:44:38.234800Z",
     "iopub.status.busy": "2025-06-18T15:44:38.234232Z",
     "iopub.status.idle": "2025-06-18T15:44:38.249364Z",
     "shell.execute_reply": "2025-06-18T15:44:38.248182Z"
    },
    "papermill": {
     "duration": 0.023064,
     "end_time": "2025-06-18T15:44:38.251311",
     "exception": false,
     "start_time": "2025-06-18T15:44:38.228247",
     "status": "completed"
    },
    "tags": []
   },
   "outputs": [],
   "source": [
    "gaming_products = pd.read_csv(\"../input/things-on-reddit/top-things/top-things/reddits/g/gaming.csv\")\n",
    "gaming_products['subreddit'] = \"r/gaming\"\n",
    "movie_products = pd.read_csv(\"../input/things-on-reddit/top-things/top-things/reddits/m/movies.csv\")\n",
    "movie_products['subreddit'] = \"r/movies\""
   ]
  },
  {
   "cell_type": "markdown",
   "id": "673256da",
   "metadata": {
    "papermill": {
     "duration": 0.007846,
     "end_time": "2025-06-18T15:44:38.264073",
     "exception": false,
     "start_time": "2025-06-18T15:44:38.256227",
     "status": "completed"
    },
    "tags": []
   },
   "source": [
    "Create a `DataFrame` of products mentioned on *either* subreddit."
   ]
  },
  {
   "cell_type": "code",
   "execution_count": 8,
   "id": "bd1dee13",
   "metadata": {
    "execution": {
     "iopub.execute_input": "2025-06-18T15:44:38.277280Z",
     "iopub.status.busy": "2025-06-18T15:44:38.276984Z",
     "iopub.status.idle": "2025-06-18T15:44:38.291121Z",
     "shell.execute_reply": "2025-06-18T15:44:38.290138Z"
    },
    "papermill": {
     "duration": 0.021528,
     "end_time": "2025-06-18T15:44:38.292731",
     "exception": false,
     "start_time": "2025-06-18T15:44:38.271203",
     "status": "completed"
    },
    "tags": []
   },
   "outputs": [
    {
     "data": {
      "application/javascript": [
       "parent.postMessage({\"jupyterEvent\": \"custom.exercise_interaction\", \"data\": {\"outcomeType\": 1, \"valueTowardsCompletion\": 0.25, \"interactionType\": 1, \"questionType\": 2, \"questionId\": \"3_ConcatReddit\", \"learnToolsVersion\": \"0.3.5\", \"failureMessage\": \"\", \"exceptionClass\": \"\", \"trace\": \"\"}}, \"*\")"
      ],
      "text/plain": [
       "<IPython.core.display.Javascript object>"
      ]
     },
     "metadata": {},
     "output_type": "display_data"
    },
    {
     "data": {
      "text/markdown": [
       "<span style=\"color:#33cc33\">Correct</span>"
      ],
      "text/plain": [
       "Correct"
      ]
     },
     "metadata": {},
     "output_type": "display_data"
    }
   ],
   "source": [
    "combined_products = pd.concat([gaming_products, movie_products])\n",
    "\n",
    "# Check your answer\n",
    "q3.check()"
   ]
  },
  {
   "cell_type": "code",
   "execution_count": 9,
   "id": "7dedf3ee",
   "metadata": {
    "execution": {
     "iopub.execute_input": "2025-06-18T15:44:38.306421Z",
     "iopub.status.busy": "2025-06-18T15:44:38.306122Z",
     "iopub.status.idle": "2025-06-18T15:44:38.311075Z",
     "shell.execute_reply": "2025-06-18T15:44:38.310129Z"
    },
    "papermill": {
     "duration": 0.015757,
     "end_time": "2025-06-18T15:44:38.313390",
     "exception": false,
     "start_time": "2025-06-18T15:44:38.297633",
     "status": "completed"
    },
    "tags": []
   },
   "outputs": [],
   "source": [
    "#q3.hint()\n",
    "#q3.solution()"
   ]
  },
  {
   "cell_type": "markdown",
   "id": "d9815571",
   "metadata": {
    "papermill": {
     "duration": 0.004816,
     "end_time": "2025-06-18T15:44:38.323903",
     "exception": false,
     "start_time": "2025-06-18T15:44:38.319087",
     "status": "completed"
    },
    "tags": []
   },
   "source": [
    "## 4.\n",
    "The [Powerlifting Database](https://www.kaggle.com/open-powerlifting/powerlifting-database) dataset on Kaggle includes one CSV table for powerlifting meets and a separate one for powerlifting competitors. Run the cell below to load these datasets into dataframes:"
   ]
  },
  {
   "cell_type": "code",
   "execution_count": 10,
   "id": "c643f552",
   "metadata": {
    "execution": {
     "iopub.execute_input": "2025-06-18T15:44:38.335292Z",
     "iopub.status.busy": "2025-06-18T15:44:38.334999Z",
     "iopub.status.idle": "2025-06-18T15:44:39.174472Z",
     "shell.execute_reply": "2025-06-18T15:44:39.173658Z"
    },
    "papermill": {
     "duration": 0.847354,
     "end_time": "2025-06-18T15:44:39.176110",
     "exception": false,
     "start_time": "2025-06-18T15:44:38.328756",
     "status": "completed"
    },
    "tags": []
   },
   "outputs": [],
   "source": [
    "powerlifting_meets = pd.read_csv(\"../input/powerlifting-database/meets.csv\")\n",
    "powerlifting_competitors = pd.read_csv(\"../input/powerlifting-database/openpowerlifting.csv\")"
   ]
  },
  {
   "cell_type": "markdown",
   "id": "1098d195",
   "metadata": {
    "papermill": {
     "duration": 0.004469,
     "end_time": "2025-06-18T15:44:39.185635",
     "exception": false,
     "start_time": "2025-06-18T15:44:39.181166",
     "status": "completed"
    },
    "tags": []
   },
   "source": [
    "Both tables include references to a `MeetID`, a unique key for each meet (competition) included in the database. Using this, generate a dataset combining the two tables into one."
   ]
  },
  {
   "cell_type": "code",
   "execution_count": 11,
   "id": "2948a76e",
   "metadata": {
    "execution": {
     "iopub.execute_input": "2025-06-18T15:44:39.196300Z",
     "iopub.status.busy": "2025-06-18T15:44:39.195972Z",
     "iopub.status.idle": "2025-06-18T15:44:40.008565Z",
     "shell.execute_reply": "2025-06-18T15:44:40.007685Z"
    },
    "papermill": {
     "duration": 0.819854,
     "end_time": "2025-06-18T15:44:40.010157",
     "exception": false,
     "start_time": "2025-06-18T15:44:39.190303",
     "status": "completed"
    },
    "tags": []
   },
   "outputs": [
    {
     "data": {
      "application/javascript": [
       "parent.postMessage({\"jupyterEvent\": \"custom.exercise_interaction\", \"data\": {\"outcomeType\": 1, \"valueTowardsCompletion\": 0.25, \"interactionType\": 1, \"questionType\": 2, \"questionId\": \"4_JoinLifting\", \"learnToolsVersion\": \"0.3.5\", \"failureMessage\": \"\", \"exceptionClass\": \"\", \"trace\": \"\"}}, \"*\")"
      ],
      "text/plain": [
       "<IPython.core.display.Javascript object>"
      ]
     },
     "metadata": {},
     "output_type": "display_data"
    },
    {
     "data": {
      "text/markdown": [
       "<span style=\"color:#33cc33\">Correct</span>"
      ],
      "text/plain": [
       "Correct"
      ]
     },
     "metadata": {},
     "output_type": "display_data"
    }
   ],
   "source": [
    "powerlifting_combined = powerlifting_meets.set_index('MeetID').join(powerlifting_competitors.set_index(\"MeetID\"))\n",
    "\n",
    "# Check your answer\n",
    "q4.check()"
   ]
  },
  {
   "cell_type": "code",
   "execution_count": 12,
   "id": "eabd240f",
   "metadata": {
    "execution": {
     "iopub.execute_input": "2025-06-18T15:44:40.021513Z",
     "iopub.status.busy": "2025-06-18T15:44:40.020994Z",
     "iopub.status.idle": "2025-06-18T15:44:40.024805Z",
     "shell.execute_reply": "2025-06-18T15:44:40.024010Z"
    },
    "papermill": {
     "duration": 0.010991,
     "end_time": "2025-06-18T15:44:40.026252",
     "exception": false,
     "start_time": "2025-06-18T15:44:40.015261",
     "status": "completed"
    },
    "tags": []
   },
   "outputs": [],
   "source": [
    "#q4.hint()\n",
    "#q4.solution()"
   ]
  },
  {
   "cell_type": "markdown",
   "id": "2320733d",
   "metadata": {
    "papermill": {
     "duration": 0.004743,
     "end_time": "2025-06-18T15:44:40.036098",
     "exception": false,
     "start_time": "2025-06-18T15:44:40.031355",
     "status": "completed"
    },
    "tags": []
   },
   "source": [
    "# Congratulations!\n",
    "\n",
    "You've finished the Pandas micro-course.  Many data scientists feel efficiency with Pandas is the most useful and practical skill they have, because it allows you to progress quickly in any project you have.\n",
    "\n",
    "If you'd like to apply your new skills to examining geospatial data, you're encouraged to check out our **[Geospatial Analysis](https://www.kaggle.com/learn/geospatial-analysis)** micro-course.\n",
    "\n",
    "You can also take advantage of your Pandas skills by entering a **[Kaggle Competition](https://www.kaggle.com/competitions)** or by answering a question you find interesting using **[Kaggle Datasets](https://www.kaggle.com/datasets)**."
   ]
  },
  {
   "cell_type": "markdown",
   "id": "5bccd12d",
   "metadata": {
    "papermill": {
     "duration": 0.004638,
     "end_time": "2025-06-18T15:44:40.045769",
     "exception": false,
     "start_time": "2025-06-18T15:44:40.041131",
     "status": "completed"
    },
    "tags": []
   },
   "source": [
    "---\n",
    "\n",
    "\n",
    "\n",
    "\n",
    "*Have questions or comments? Visit the [course discussion forum](https://www.kaggle.com/learn/pandas/discussion) to chat with other learners.*"
   ]
  }
 ],
 "metadata": {
  "kaggle": {
   "accelerator": "none",
   "dataSources": [
    {
     "datasetId": 655,
     "sourceId": 1252,
     "sourceType": "datasetVersion"
    },
    {
     "datasetId": 2321,
     "sourceId": 3919,
     "sourceType": "datasetVersion"
    },
    {
     "datasetId": 2894,
     "sourceId": 4877,
     "sourceType": "datasetVersion"
    },
    {
     "datasetId": 3491,
     "sourceId": 5624,
     "sourceType": "datasetVersion"
    },
    {
     "datasetId": 1442,
     "sourceId": 8172,
     "sourceType": "datasetVersion"
    },
    {
     "datasetId": 9366,
     "sourceId": 13206,
     "sourceType": "datasetVersion"
    },
    {
     "datasetId": 179555,
     "sourceId": 403916,
     "sourceType": "datasetVersion"
    },
    {
     "datasetId": 4549,
     "sourceId": 466349,
     "sourceType": "datasetVersion"
    },
    {
     "datasetId": 2478,
     "sourceId": 1151655,
     "sourceType": "datasetVersion"
    },
    {
     "datasetId": 10128,
     "sourceId": 5438389,
     "sourceType": "datasetVersion"
    }
   ],
   "isGpuEnabled": false,
   "isInternetEnabled": false,
   "language": "python",
   "sourceType": "notebook"
  },
  "kernelspec": {
   "display_name": "Python 3",
   "language": "python",
   "name": "python3"
  },
  "language_info": {
   "codemirror_mode": {
    "name": "ipython",
    "version": 3
   },
   "file_extension": ".py",
   "mimetype": "text/x-python",
   "name": "python",
   "nbconvert_exporter": "python",
   "pygments_lexer": "ipython3",
   "version": "3.11.11"
  },
  "papermill": {
   "default_parameters": {},
   "duration": 14.468054,
   "end_time": "2025-06-18T15:44:40.672743",
   "environment_variables": {},
   "exception": null,
   "input_path": "__notebook__.ipynb",
   "output_path": "__notebook__.ipynb",
   "parameters": {},
   "start_time": "2025-06-18T15:44:26.204689",
   "version": "2.6.0"
  }
 },
 "nbformat": 4,
 "nbformat_minor": 5
}
