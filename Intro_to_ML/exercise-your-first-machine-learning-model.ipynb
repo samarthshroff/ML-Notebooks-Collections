{
 "cells": [
  {
   "cell_type": "markdown",
   "id": "5b86af47",
   "metadata": {
    "papermill": {
     "duration": 0.00446,
     "end_time": "2025-06-18T15:56:16.477372",
     "exception": false,
     "start_time": "2025-06-18T15:56:16.472912",
     "status": "completed"
    },
    "tags": []
   },
   "source": [
    "**This notebook is an exercise in the [Introduction to Machine Learning](https://www.kaggle.com/learn/intro-to-machine-learning) course.  You can reference the tutorial at [this link](https://www.kaggle.com/dansbecker/your-first-machine-learning-model).**\n",
    "\n",
    "---\n"
   ]
  },
  {
   "cell_type": "markdown",
   "id": "100499ee",
   "metadata": {
    "papermill": {
     "duration": 0.003196,
     "end_time": "2025-06-18T15:56:16.484210",
     "exception": false,
     "start_time": "2025-06-18T15:56:16.481014",
     "status": "completed"
    },
    "tags": []
   },
   "source": [
    "## Recap\n",
    "So far, you have loaded your data and reviewed it with the following code. Run this cell to set up your coding environment where the previous step left off."
   ]
  },
  {
   "cell_type": "code",
   "execution_count": 1,
   "id": "2ac0b4ec",
   "metadata": {
    "execution": {
     "iopub.execute_input": "2025-06-18T15:56:16.492141Z",
     "iopub.status.busy": "2025-06-18T15:56:16.491764Z",
     "iopub.status.idle": "2025-06-18T15:56:20.050077Z",
     "shell.execute_reply": "2025-06-18T15:56:20.048855Z"
    },
    "papermill": {
     "duration": 3.564237,
     "end_time": "2025-06-18T15:56:20.051890",
     "exception": false,
     "start_time": "2025-06-18T15:56:16.487653",
     "status": "completed"
    },
    "tags": []
   },
   "outputs": [
    {
     "name": "stdout",
     "output_type": "stream",
     "text": [
      "Setup Complete\n"
     ]
    }
   ],
   "source": [
    "# Code you have previously used to load data\n",
    "import pandas as pd\n",
    "\n",
    "# Path of the file to read\n",
    "iowa_file_path = '../input/home-data-for-ml-course/train.csv'\n",
    "\n",
    "home_data = pd.read_csv(iowa_file_path)\n",
    "\n",
    "# Set up code checking\n",
    "from learntools.core import binder\n",
    "binder.bind(globals())\n",
    "from learntools.machine_learning.ex3 import *\n",
    "\n",
    "print(\"Setup Complete\")"
   ]
  },
  {
   "cell_type": "markdown",
   "id": "68daf301",
   "metadata": {
    "papermill": {
     "duration": 0.005804,
     "end_time": "2025-06-18T15:56:20.062306",
     "exception": false,
     "start_time": "2025-06-18T15:56:20.056502",
     "status": "completed"
    },
    "tags": []
   },
   "source": [
    "# Exercises\n",
    "\n",
    "## Step 1: Specify Prediction Target\n",
    "Select the target variable, which corresponds to the sales price. Save this to a new variable called `y`. You'll need to print a list of the columns to find the name of the column you need.\n"
   ]
  },
  {
   "cell_type": "markdown",
   "id": "5ae6f60d",
   "metadata": {
    "collapsed": true,
    "jupyter": {
     "outputs_hidden": true
    },
    "papermill": {
     "duration": 0.007533,
     "end_time": "2025-06-18T15:56:20.076137",
     "exception": false,
     "start_time": "2025-06-18T15:56:20.068604",
     "status": "completed"
    },
    "tags": []
   },
   "source": [
    "# print the list of columns in the dataset to find the name of the prediction target\n",
    "print(dir(home_data"
   ]
  },
  {
   "cell_type": "code",
   "execution_count": 2,
   "id": "c0401a9b",
   "metadata": {
    "execution": {
     "iopub.execute_input": "2025-06-18T15:56:20.088562Z",
     "iopub.status.busy": "2025-06-18T15:56:20.088140Z",
     "iopub.status.idle": "2025-06-18T15:56:20.105193Z",
     "shell.execute_reply": "2025-06-18T15:56:20.103963Z"
    },
    "papermill": {
     "duration": 0.023306,
     "end_time": "2025-06-18T15:56:20.106570",
     "exception": false,
     "start_time": "2025-06-18T15:56:20.083264",
     "status": "completed"
    },
    "tags": []
   },
   "outputs": [
    {
     "data": {
      "application/javascript": [
       "parent.postMessage({\"jupyterEvent\": \"custom.exercise_interaction\", \"data\": {\"outcomeType\": 1, \"valueTowardsCompletion\": 0.25, \"interactionType\": 1, \"questionType\": 2, \"questionId\": \"1_SetTarget\", \"learnToolsVersion\": \"0.3.5\", \"failureMessage\": \"\", \"exceptionClass\": \"\", \"trace\": \"\"}}, \"*\")"
      ],
      "text/plain": [
       "<IPython.core.display.Javascript object>"
      ]
     },
     "metadata": {},
     "output_type": "display_data"
    },
    {
     "data": {
      "text/markdown": [
       "<span style=\"color:#33cc33\">Correct</span>"
      ],
      "text/plain": [
       "Correct"
      ]
     },
     "metadata": {},
     "output_type": "display_data"
    }
   ],
   "source": [
    "y = home_data.SalePrice\n",
    "\n",
    "# Check your answer\n",
    "step_1.check()"
   ]
  },
  {
   "cell_type": "code",
   "execution_count": 3,
   "id": "9d9ab64a",
   "metadata": {
    "collapsed": true,
    "execution": {
     "iopub.execute_input": "2025-06-18T15:56:20.115386Z",
     "iopub.status.busy": "2025-06-18T15:56:20.114864Z",
     "iopub.status.idle": "2025-06-18T15:56:20.118600Z",
     "shell.execute_reply": "2025-06-18T15:56:20.117782Z"
    },
    "jupyter": {
     "outputs_hidden": true
    },
    "papermill": {
     "duration": 0.009513,
     "end_time": "2025-06-18T15:56:20.119891",
     "exception": false,
     "start_time": "2025-06-18T15:56:20.110378",
     "status": "completed"
    },
    "tags": []
   },
   "outputs": [],
   "source": [
    "# The lines below will show you a hint or the solution.\n",
    "# step_1.hint() \n",
    "# step_1.solution()"
   ]
  },
  {
   "cell_type": "markdown",
   "id": "84f80d46",
   "metadata": {
    "papermill": {
     "duration": 0.003433,
     "end_time": "2025-06-18T15:56:20.127237",
     "exception": false,
     "start_time": "2025-06-18T15:56:20.123804",
     "status": "completed"
    },
    "tags": []
   },
   "source": [
    "## Step 2: Create X\n",
    "Now you will create a DataFrame called `X` holding the predictive features.\n",
    "\n",
    "Since you want only some columns from the original data, you'll first create a list with the names of the columns you want in `X`.\n",
    "\n",
    "You'll use just the following columns in the list (you can copy and paste the whole list to save some typing, though you'll still need to add quotes):\n",
    "  * LotArea\n",
    "  * YearBuilt\n",
    "  * 1stFlrSF\n",
    "  * 2ndFlrSF\n",
    "  * FullBath\n",
    "  * BedroomAbvGr\n",
    "  * TotRmsAbvGrd\n",
    "\n",
    "After you've created that list of features, use it to create the DataFrame that you'll use to fit the model."
   ]
  },
  {
   "cell_type": "code",
   "execution_count": 4,
   "id": "91776e06",
   "metadata": {
    "execution": {
     "iopub.execute_input": "2025-06-18T15:56:20.135798Z",
     "iopub.status.busy": "2025-06-18T15:56:20.135464Z",
     "iopub.status.idle": "2025-06-18T15:56:20.147348Z",
     "shell.execute_reply": "2025-06-18T15:56:20.146271Z"
    },
    "papermill": {
     "duration": 0.017908,
     "end_time": "2025-06-18T15:56:20.148745",
     "exception": false,
     "start_time": "2025-06-18T15:56:20.130837",
     "status": "completed"
    },
    "tags": []
   },
   "outputs": [
    {
     "data": {
      "application/javascript": [
       "parent.postMessage({\"jupyterEvent\": \"custom.exercise_interaction\", \"data\": {\"outcomeType\": 1, \"valueTowardsCompletion\": 0.25, \"interactionType\": 1, \"questionType\": 2, \"questionId\": \"2_SelectPredictionData\", \"learnToolsVersion\": \"0.3.5\", \"failureMessage\": \"\", \"exceptionClass\": \"\", \"trace\": \"\"}}, \"*\")"
      ],
      "text/plain": [
       "<IPython.core.display.Javascript object>"
      ]
     },
     "metadata": {},
     "output_type": "display_data"
    },
    {
     "data": {
      "text/markdown": [
       "<span style=\"color:#33cc33\">Correct</span>"
      ],
      "text/plain": [
       "Correct"
      ]
     },
     "metadata": {},
     "output_type": "display_data"
    }
   ],
   "source": [
    "# Create the list of features below\n",
    "feature_names = [\"LotArea\",\"YearBuilt\",\"1stFlrSF\",\"2ndFlrSF\",\"FullBath\",\"BedroomAbvGr\",\"TotRmsAbvGrd\"]\n",
    "\n",
    "# Select data corresponding to features in feature_names\n",
    "X = home_data[feature_names]\n",
    "\n",
    "# Check your answer\n",
    "step_2.check()"
   ]
  },
  {
   "cell_type": "code",
   "execution_count": 5,
   "id": "906ce2d0",
   "metadata": {
    "collapsed": true,
    "execution": {
     "iopub.execute_input": "2025-06-18T15:56:20.157860Z",
     "iopub.status.busy": "2025-06-18T15:56:20.157538Z",
     "iopub.status.idle": "2025-06-18T15:56:20.161981Z",
     "shell.execute_reply": "2025-06-18T15:56:20.160673Z"
    },
    "jupyter": {
     "outputs_hidden": true
    },
    "papermill": {
     "duration": 0.010983,
     "end_time": "2025-06-18T15:56:20.163773",
     "exception": false,
     "start_time": "2025-06-18T15:56:20.152790",
     "status": "completed"
    },
    "tags": []
   },
   "outputs": [],
   "source": [
    "# step_2.hint()\n",
    "# step_2.solution()"
   ]
  },
  {
   "cell_type": "markdown",
   "id": "f5590250",
   "metadata": {
    "papermill": {
     "duration": 0.007613,
     "end_time": "2025-06-18T15:56:20.178736",
     "exception": false,
     "start_time": "2025-06-18T15:56:20.171123",
     "status": "completed"
    },
    "tags": []
   },
   "source": [
    "## Review Data\n",
    "Before building a model, take a quick look at **X** to verify it looks sensible"
   ]
  },
  {
   "cell_type": "code",
   "execution_count": 6,
   "id": "ba455f2c",
   "metadata": {
    "execution": {
     "iopub.execute_input": "2025-06-18T15:56:20.190313Z",
     "iopub.status.busy": "2025-06-18T15:56:20.189986Z",
     "iopub.status.idle": "2025-06-18T15:56:20.229809Z",
     "shell.execute_reply": "2025-06-18T15:56:20.228967Z"
    },
    "papermill": {
     "duration": 0.048477,
     "end_time": "2025-06-18T15:56:20.231663",
     "exception": false,
     "start_time": "2025-06-18T15:56:20.183186",
     "status": "completed"
    },
    "tags": []
   },
   "outputs": [
    {
     "name": "stdout",
     "output_type": "stream",
     "text": [
      "             LotArea    YearBuilt     1stFlrSF     2ndFlrSF     FullBath  \\\n",
      "count    1460.000000  1460.000000  1460.000000  1460.000000  1460.000000   \n",
      "mean    10516.828082  1971.267808  1162.626712   346.992466     1.565068   \n",
      "std      9981.264932    30.202904   386.587738   436.528436     0.550916   \n",
      "min      1300.000000  1872.000000   334.000000     0.000000     0.000000   \n",
      "25%      7553.500000  1954.000000   882.000000     0.000000     1.000000   \n",
      "50%      9478.500000  1973.000000  1087.000000     0.000000     2.000000   \n",
      "75%     11601.500000  2000.000000  1391.250000   728.000000     2.000000   \n",
      "max    215245.000000  2010.000000  4692.000000  2065.000000     3.000000   \n",
      "\n",
      "       BedroomAbvGr  TotRmsAbvGrd  \n",
      "count   1460.000000   1460.000000  \n",
      "mean       2.866438      6.517808  \n",
      "std        0.815778      1.625393  \n",
      "min        0.000000      2.000000  \n",
      "25%        2.000000      5.000000  \n",
      "50%        3.000000      6.000000  \n",
      "75%        3.000000      7.000000  \n",
      "max        8.000000     14.000000  \n",
      "   LotArea  YearBuilt  1stFlrSF  2ndFlrSF  FullBath  BedroomAbvGr  \\\n",
      "0     8450       2003       856       854         2             3   \n",
      "1     9600       1976      1262         0         2             3   \n",
      "2    11250       2001       920       866         2             3   \n",
      "3     9550       1915       961       756         1             3   \n",
      "4    14260       2000      1145      1053         2             4   \n",
      "\n",
      "   TotRmsAbvGrd  \n",
      "0             8  \n",
      "1             6  \n",
      "2             6  \n",
      "3             7  \n",
      "4             9  \n"
     ]
    }
   ],
   "source": [
    "# Review data\n",
    "# print description or statistics from X\n",
    "#print(_)\n",
    "print(X.describe())\n",
    "\n",
    "# print the top few lines\n",
    "print(X.head())"
   ]
  },
  {
   "cell_type": "markdown",
   "id": "78257a45",
   "metadata": {
    "papermill": {
     "duration": 0.004512,
     "end_time": "2025-06-18T15:56:20.240586",
     "exception": false,
     "start_time": "2025-06-18T15:56:20.236074",
     "status": "completed"
    },
    "tags": []
   },
   "source": [
    "## Step 3: Specify and Fit Model\n",
    "Create a `DecisionTreeRegressor` and save it iowa_model. Ensure you've done the relevant import from sklearn to run this command.\n",
    "\n",
    "Then fit the model you just created using the data in `X` and `y` that you saved above."
   ]
  },
  {
   "cell_type": "code",
   "execution_count": 7,
   "id": "6ecea20d",
   "metadata": {
    "execution": {
     "iopub.execute_input": "2025-06-18T15:56:20.255615Z",
     "iopub.status.busy": "2025-06-18T15:56:20.255285Z",
     "iopub.status.idle": "2025-06-18T15:56:20.271972Z",
     "shell.execute_reply": "2025-06-18T15:56:20.271086Z"
    },
    "papermill": {
     "duration": 0.026514,
     "end_time": "2025-06-18T15:56:20.273448",
     "exception": false,
     "start_time": "2025-06-18T15:56:20.246934",
     "status": "completed"
    },
    "tags": []
   },
   "outputs": [
    {
     "data": {
      "application/javascript": [
       "parent.postMessage({\"jupyterEvent\": \"custom.exercise_interaction\", \"data\": {\"outcomeType\": 1, \"valueTowardsCompletion\": 0.25, \"interactionType\": 1, \"questionType\": 2, \"questionId\": \"3_CreateModel\", \"learnToolsVersion\": \"0.3.5\", \"failureMessage\": \"\", \"exceptionClass\": \"\", \"trace\": \"\"}}, \"*\")"
      ],
      "text/plain": [
       "<IPython.core.display.Javascript object>"
      ]
     },
     "metadata": {},
     "output_type": "display_data"
    },
    {
     "data": {
      "text/markdown": [
       "<span style=\"color:#33cc33\">Correct</span>"
      ],
      "text/plain": [
       "Correct"
      ]
     },
     "metadata": {},
     "output_type": "display_data"
    }
   ],
   "source": [
    "from sklearn.tree import DecisionTreeRegressor\n",
    "#specify the model. \n",
    "#For model reproducibility, set a numeric value for random_state when specifying the model\n",
    "iowa_model = DecisionTreeRegressor(random_state=1)\n",
    "\n",
    "# Fit the model\n",
    "iowa_model.fit(X,y)\n",
    "\n",
    "# Check your answer\n",
    "step_3.check()"
   ]
  },
  {
   "cell_type": "code",
   "execution_count": 8,
   "id": "d64ad700",
   "metadata": {
    "collapsed": true,
    "execution": {
     "iopub.execute_input": "2025-06-18T15:56:20.284231Z",
     "iopub.status.busy": "2025-06-18T15:56:20.283928Z",
     "iopub.status.idle": "2025-06-18T15:56:20.288076Z",
     "shell.execute_reply": "2025-06-18T15:56:20.287080Z"
    },
    "jupyter": {
     "outputs_hidden": true
    },
    "papermill": {
     "duration": 0.011367,
     "end_time": "2025-06-18T15:56:20.289634",
     "exception": false,
     "start_time": "2025-06-18T15:56:20.278267",
     "status": "completed"
    },
    "tags": []
   },
   "outputs": [],
   "source": [
    "# step_3.hint()\n",
    "# step_3.solution()"
   ]
  },
  {
   "cell_type": "markdown",
   "id": "5b5e63cb",
   "metadata": {
    "papermill": {
     "duration": 0.004013,
     "end_time": "2025-06-18T15:56:20.298548",
     "exception": false,
     "start_time": "2025-06-18T15:56:20.294535",
     "status": "completed"
    },
    "tags": []
   },
   "source": [
    "## Step 4: Make Predictions\n",
    "Make predictions with the model's `predict` command using `X` as the data. Save the results to a variable called `predictions`."
   ]
  },
  {
   "cell_type": "code",
   "execution_count": 9,
   "id": "3968a83d",
   "metadata": {
    "execution": {
     "iopub.execute_input": "2025-06-18T15:56:20.308509Z",
     "iopub.status.busy": "2025-06-18T15:56:20.308228Z",
     "iopub.status.idle": "2025-06-18T15:56:20.319347Z",
     "shell.execute_reply": "2025-06-18T15:56:20.318315Z"
    },
    "papermill": {
     "duration": 0.018085,
     "end_time": "2025-06-18T15:56:20.320877",
     "exception": false,
     "start_time": "2025-06-18T15:56:20.302792",
     "status": "completed"
    },
    "tags": []
   },
   "outputs": [
    {
     "name": "stdout",
     "output_type": "stream",
     "text": [
      "[208500. 181500. 223500. ... 266500. 142125. 147500.]\n"
     ]
    },
    {
     "data": {
      "application/javascript": [
       "parent.postMessage({\"jupyterEvent\": \"custom.exercise_interaction\", \"data\": {\"outcomeType\": 1, \"valueTowardsCompletion\": 0.25, \"interactionType\": 1, \"questionType\": 2, \"questionId\": \"4_MakePredictions\", \"learnToolsVersion\": \"0.3.5\", \"failureMessage\": \"\", \"exceptionClass\": \"\", \"trace\": \"\"}}, \"*\")"
      ],
      "text/plain": [
       "<IPython.core.display.Javascript object>"
      ]
     },
     "metadata": {},
     "output_type": "display_data"
    },
    {
     "data": {
      "text/markdown": [
       "<span style=\"color:#33cc33\">Correct</span>"
      ],
      "text/plain": [
       "Correct"
      ]
     },
     "metadata": {},
     "output_type": "display_data"
    }
   ],
   "source": [
    "predictions = iowa_model.predict(X)\n",
    "print(predictions)\n",
    "\n",
    "# Check your answer\n",
    "step_4.check()"
   ]
  },
  {
   "cell_type": "code",
   "execution_count": 10,
   "id": "7a9951eb",
   "metadata": {
    "collapsed": true,
    "execution": {
     "iopub.execute_input": "2025-06-18T15:56:20.330954Z",
     "iopub.status.busy": "2025-06-18T15:56:20.330677Z",
     "iopub.status.idle": "2025-06-18T15:56:20.334372Z",
     "shell.execute_reply": "2025-06-18T15:56:20.333521Z"
    },
    "jupyter": {
     "outputs_hidden": true
    },
    "papermill": {
     "duration": 0.010499,
     "end_time": "2025-06-18T15:56:20.335905",
     "exception": false,
     "start_time": "2025-06-18T15:56:20.325406",
     "status": "completed"
    },
    "tags": []
   },
   "outputs": [],
   "source": [
    "# step_4.hint()\n",
    "# step_4.solution()"
   ]
  },
  {
   "cell_type": "markdown",
   "id": "497008a4",
   "metadata": {
    "papermill": {
     "duration": 0.004222,
     "end_time": "2025-06-18T15:56:20.344849",
     "exception": false,
     "start_time": "2025-06-18T15:56:20.340627",
     "status": "completed"
    },
    "tags": []
   },
   "source": [
    "## Think About Your Results\n",
    "\n",
    "Use the `head` method to compare the top few predictions to the actual home values (in `y`) for those same homes. Anything surprising?\n"
   ]
  },
  {
   "cell_type": "code",
   "execution_count": 11,
   "id": "6e9d8fc0",
   "metadata": {
    "execution": {
     "iopub.execute_input": "2025-06-18T15:56:20.354608Z",
     "iopub.status.busy": "2025-06-18T15:56:20.354320Z",
     "iopub.status.idle": "2025-06-18T15:56:20.361783Z",
     "shell.execute_reply": "2025-06-18T15:56:20.360857Z"
    },
    "papermill": {
     "duration": 0.014237,
     "end_time": "2025-06-18T15:56:20.363329",
     "exception": false,
     "start_time": "2025-06-18T15:56:20.349092",
     "status": "completed"
    },
    "tags": []
   },
   "outputs": [
    {
     "name": "stdout",
     "output_type": "stream",
     "text": [
      "the actual home values are: \n",
      "0       208500\n",
      "1       181500\n",
      "2       223500\n",
      "3       140000\n",
      "4       250000\n",
      "         ...  \n",
      "1455    175000\n",
      "1456    210000\n",
      "1457    266500\n",
      "1458    142125\n",
      "1459    147500\n",
      "Name: SalePrice, Length: 1460, dtype: int64\n",
      "The first few predictions are: \n",
      "[208500. 181500. 223500. 140000. 250000.]\n"
     ]
    }
   ],
   "source": [
    "# You can write code in this cell\n",
    "print(\"the actual home values are: \")\n",
    "print(y)\n",
    "print(\"The first few predictions are: \")\n",
    "print(iowa_model.predict(X.head()))"
   ]
  },
  {
   "cell_type": "markdown",
   "id": "e2b4c22f",
   "metadata": {
    "papermill": {
     "duration": 0.005254,
     "end_time": "2025-06-18T15:56:20.375379",
     "exception": false,
     "start_time": "2025-06-18T15:56:20.370125",
     "status": "completed"
    },
    "tags": []
   },
   "source": [
    "It's natural to ask how accurate the model's predictions will be and how you can improve that. That will be you're next step.\n",
    "\n",
    "# Keep Going\n",
    "\n",
    "You are ready for **[Model Validation](https://www.kaggle.com/dansbecker/model-validation).**\n"
   ]
  },
  {
   "cell_type": "markdown",
   "id": "2251a2e0",
   "metadata": {
    "papermill": {
     "duration": 0.0047,
     "end_time": "2025-06-18T15:56:20.388114",
     "exception": false,
     "start_time": "2025-06-18T15:56:20.383414",
     "status": "completed"
    },
    "tags": []
   },
   "source": [
    "---\n",
    "\n",
    "\n",
    "\n",
    "\n",
    "*Have questions or comments? Visit the [course discussion forum](https://www.kaggle.com/learn/intro-to-machine-learning/discussion) to chat with other learners.*"
   ]
  }
 ],
 "metadata": {
  "kaggle": {
   "accelerator": "none",
   "dataSources": [
    {
     "databundleVersionId": 111096,
     "sourceId": 10211,
     "sourceType": "competition"
    },
    {
     "datasetId": 11167,
     "sourceId": 15520,
     "sourceType": "datasetVersion"
    },
    {
     "datasetId": 2709,
     "sourceId": 38454,
     "sourceType": "datasetVersion"
    }
   ],
   "isGpuEnabled": false,
   "isInternetEnabled": false,
   "language": "python",
   "sourceType": "notebook"
  },
  "kernelspec": {
   "display_name": "Python 3",
   "language": "python",
   "name": "python3"
  },
  "language_info": {
   "codemirror_mode": {
    "name": "ipython",
    "version": 3
   },
   "file_extension": ".py",
   "mimetype": "text/x-python",
   "name": "python",
   "nbconvert_exporter": "python",
   "pygments_lexer": "ipython3",
   "version": "3.11.11"
  },
  "papermill": {
   "default_parameters": {},
   "duration": 9.180947,
   "end_time": "2025-06-18T15:56:21.012592",
   "environment_variables": {},
   "exception": null,
   "input_path": "__notebook__.ipynb",
   "output_path": "__notebook__.ipynb",
   "parameters": {},
   "start_time": "2025-06-18T15:56:11.831645",
   "version": "2.6.0"
  }
 },
 "nbformat": 4,
 "nbformat_minor": 5
}
