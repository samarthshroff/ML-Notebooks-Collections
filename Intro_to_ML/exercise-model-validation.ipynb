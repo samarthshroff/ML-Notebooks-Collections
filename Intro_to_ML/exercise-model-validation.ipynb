{
 "cells": [
  {
   "cell_type": "markdown",
   "id": "fd2d750b",
   "metadata": {
    "papermill": {
     "duration": 0.004075,
     "end_time": "2025-06-18T15:47:38.920369",
     "exception": false,
     "start_time": "2025-06-18T15:47:38.916294",
     "status": "completed"
    },
    "tags": []
   },
   "source": [
    "**This notebook is an exercise in the [Introduction to Machine Learning](https://www.kaggle.com/learn/intro-to-machine-learning) course.  You can reference the tutorial at [this link](https://www.kaggle.com/dansbecker/model-validation).**\n",
    "\n",
    "---\n"
   ]
  },
  {
   "cell_type": "markdown",
   "id": "794b7aa2",
   "metadata": {
    "papermill": {
     "duration": 0.003047,
     "end_time": "2025-06-18T15:47:38.927048",
     "exception": false,
     "start_time": "2025-06-18T15:47:38.924001",
     "status": "completed"
    },
    "tags": []
   },
   "source": [
    "## Recap\n",
    "You've built a model. In this exercise you will test how good your model is.\n",
    "\n",
    "Run the cell below to set up your coding environment where the previous exercise left off."
   ]
  },
  {
   "cell_type": "code",
   "execution_count": 1,
   "id": "7f9f4e26",
   "metadata": {
    "execution": {
     "iopub.execute_input": "2025-06-18T15:47:38.935283Z",
     "iopub.status.busy": "2025-06-18T15:47:38.934863Z",
     "iopub.status.idle": "2025-06-18T15:47:42.951273Z",
     "shell.execute_reply": "2025-06-18T15:47:42.949863Z"
    },
    "papermill": {
     "duration": 4.022438,
     "end_time": "2025-06-18T15:47:42.952894",
     "exception": false,
     "start_time": "2025-06-18T15:47:38.930456",
     "status": "completed"
    },
    "tags": []
   },
   "outputs": [
    {
     "name": "stdout",
     "output_type": "stream",
     "text": [
      "First in-sample predictions: [208500. 181500. 223500. 140000. 250000.]\n",
      "Actual target values for those homes: [208500, 181500, 223500, 140000, 250000]\n",
      "Setup Complete\n"
     ]
    }
   ],
   "source": [
    "# Code you have previously used to load data\n",
    "import pandas as pd\n",
    "from sklearn.tree import DecisionTreeRegressor\n",
    "\n",
    "# Path of the file to read\n",
    "iowa_file_path = '../input/home-data-for-ml-course/train.csv'\n",
    "\n",
    "home_data = pd.read_csv(iowa_file_path)\n",
    "y = home_data.SalePrice\n",
    "feature_columns = ['LotArea', 'YearBuilt', '1stFlrSF', '2ndFlrSF', 'FullBath', 'BedroomAbvGr', 'TotRmsAbvGrd']\n",
    "X = home_data[feature_columns]\n",
    "\n",
    "# Specify Model\n",
    "iowa_model = DecisionTreeRegressor()\n",
    "# Fit Model\n",
    "iowa_model.fit(X, y)\n",
    "\n",
    "print(\"First in-sample predictions:\", iowa_model.predict(X.head()))\n",
    "print(\"Actual target values for those homes:\", y.head().tolist())\n",
    "\n",
    "# Set up code checking\n",
    "from learntools.core import binder\n",
    "binder.bind(globals())\n",
    "from learntools.machine_learning.ex4 import *\n",
    "print(\"Setup Complete\")"
   ]
  },
  {
   "cell_type": "markdown",
   "id": "d1101fff",
   "metadata": {
    "papermill": {
     "duration": 0.003141,
     "end_time": "2025-06-18T15:47:42.959539",
     "exception": false,
     "start_time": "2025-06-18T15:47:42.956398",
     "status": "completed"
    },
    "tags": []
   },
   "source": [
    "# Exercises\n",
    "\n",
    "## Step 1: Split Your Data\n",
    "Use the `train_test_split` function to split up your data.\n",
    "\n",
    "Give it the argument `random_state=1` so the `check` functions know what to expect when verifying your code.\n",
    "\n",
    "Recall, your features are loaded in the DataFrame **X** and your target is loaded in **y**.\n"
   ]
  },
  {
   "cell_type": "markdown",
   "id": "308f983d",
   "metadata": {
    "papermill": {
     "duration": 0.002857,
     "end_time": "2025-06-18T15:47:42.965594",
     "exception": false,
     "start_time": "2025-06-18T15:47:42.962737",
     "status": "completed"
    },
    "tags": []
   },
   "source": [
    "# Import the train_test_split function and uncomment\n",
    "from sklearn.model_selection import train_test_split\n",
    "\n",
    "# fill in and uncomment\n",
    "train_X, val_X, train_y, val_y = train_test_split(X,y,random_state=1)\n",
    "\n",
    "# Check your answer\n",
    "step_1.check()"
   ]
  },
  {
   "cell_type": "code",
   "execution_count": 2,
   "id": "557d51ac",
   "metadata": {
    "execution": {
     "iopub.execute_input": "2025-06-18T15:47:42.973185Z",
     "iopub.status.busy": "2025-06-18T15:47:42.972828Z",
     "iopub.status.idle": "2025-06-18T15:47:42.987494Z",
     "shell.execute_reply": "2025-06-18T15:47:42.986652Z"
    },
    "papermill": {
     "duration": 0.020207,
     "end_time": "2025-06-18T15:47:42.988809",
     "exception": false,
     "start_time": "2025-06-18T15:47:42.968602",
     "status": "completed"
    },
    "tags": []
   },
   "outputs": [
    {
     "data": {
      "application/javascript": [
       "parent.postMessage({\"jupyterEvent\": \"custom.exercise_interaction\", \"data\": {\"outcomeType\": 1, \"valueTowardsCompletion\": 0.25, \"interactionType\": 1, \"questionType\": 2, \"questionId\": \"1_SplitData\", \"learnToolsVersion\": \"0.3.5\", \"failureMessage\": \"\", \"exceptionClass\": \"\", \"trace\": \"\"}}, \"*\")"
      ],
      "text/plain": [
       "<IPython.core.display.Javascript object>"
      ]
     },
     "metadata": {},
     "output_type": "display_data"
    },
    {
     "data": {
      "text/markdown": [
       "<span style=\"color:#33cc33\">Correct</span>"
      ],
      "text/plain": [
       "Correct"
      ]
     },
     "metadata": {},
     "output_type": "display_data"
    }
   ],
   "source": [
    "# Import the train_test_split function and uncomment\n",
    "from sklearn.model_selection import train_test_split\n",
    "\n",
    "# fill in and uncomment\n",
    "train_X, val_X, train_y, val_y = train_test_split(X,y,random_state=1)\n",
    "\n",
    "step_1.check()\n",
    "\n",
    "# The lines below will show you a hint or the solution.\n",
    "# step_1.hint() \n",
    "# step_1.solution()\n"
   ]
  },
  {
   "cell_type": "markdown",
   "id": "5898372c",
   "metadata": {
    "papermill": {
     "duration": 0.003233,
     "end_time": "2025-06-18T15:47:42.995676",
     "exception": false,
     "start_time": "2025-06-18T15:47:42.992443",
     "status": "completed"
    },
    "tags": []
   },
   "source": [
    "## Step 2: Specify and Fit the Model\n",
    "\n",
    "Create a `DecisionTreeRegressor` model and fit it to the relevant data.\n",
    "Set `random_state` to 1 again when creating the model."
   ]
  },
  {
   "cell_type": "code",
   "execution_count": 3,
   "id": "986f633e",
   "metadata": {
    "execution": {
     "iopub.execute_input": "2025-06-18T15:47:43.003923Z",
     "iopub.status.busy": "2025-06-18T15:47:43.003598Z",
     "iopub.status.idle": "2025-06-18T15:47:43.030073Z",
     "shell.execute_reply": "2025-06-18T15:47:43.029087Z"
    },
    "papermill": {
     "duration": 0.032413,
     "end_time": "2025-06-18T15:47:43.031590",
     "exception": false,
     "start_time": "2025-06-18T15:47:42.999177",
     "status": "completed"
    },
    "tags": []
   },
   "outputs": [
    {
     "name": "stdout",
     "output_type": "stream",
     "text": [
      "[186500. 184000. 130000.  92000. 164500. 220000. 335000. 144152. 215000.\n",
      " 262000.]\n",
      "[186500. 184000. 130000.  92000. 164500. 220000. 335000. 144152. 215000.\n",
      " 262000.]\n"
     ]
    },
    {
     "data": {
      "application/javascript": [
       "parent.postMessage({\"jupyterEvent\": \"custom.exercise_interaction\", \"data\": {\"outcomeType\": 1, \"valueTowardsCompletion\": 0.25, \"interactionType\": 1, \"questionType\": 2, \"questionId\": \"2_FitModelWithTrain\", \"learnToolsVersion\": \"0.3.5\", \"failureMessage\": \"\", \"exceptionClass\": \"\", \"trace\": \"\"}}, \"*\")"
      ],
      "text/plain": [
       "<IPython.core.display.Javascript object>"
      ]
     },
     "metadata": {},
     "output_type": "display_data"
    },
    {
     "data": {
      "text/markdown": [
       "<span style=\"color:#33cc33\">Correct</span>"
      ],
      "text/plain": [
       "Correct"
      ]
     },
     "metadata": {},
     "output_type": "display_data"
    }
   ],
   "source": [
    "# You imported DecisionTreeRegressor in your last exercise\n",
    "# and that code has been copied to the setup code above. So, no need to\n",
    "# import it again\n",
    "\n",
    "# Specify the model\n",
    "iowa_model = DecisionTreeRegressor(random_state=1)\n",
    "\n",
    "# Fit iowa_model with the training data.\n",
    "iowa_model.fit(train_X,train_y)\n",
    "\n",
    "# Check your answer\n",
    "step_2.check()"
   ]
  },
  {
   "cell_type": "code",
   "execution_count": 4,
   "id": "67ce707a",
   "metadata": {
    "execution": {
     "iopub.execute_input": "2025-06-18T15:47:43.040733Z",
     "iopub.status.busy": "2025-06-18T15:47:43.040355Z",
     "iopub.status.idle": "2025-06-18T15:47:43.044337Z",
     "shell.execute_reply": "2025-06-18T15:47:43.043523Z"
    },
    "papermill": {
     "duration": 0.010119,
     "end_time": "2025-06-18T15:47:43.045697",
     "exception": false,
     "start_time": "2025-06-18T15:47:43.035578",
     "status": "completed"
    },
    "tags": []
   },
   "outputs": [],
   "source": [
    "# step_2.hint()\n",
    "# step_2.solution()"
   ]
  },
  {
   "cell_type": "markdown",
   "id": "a88c9976",
   "metadata": {
    "papermill": {
     "duration": 0.003521,
     "end_time": "2025-06-18T15:47:43.053052",
     "exception": false,
     "start_time": "2025-06-18T15:47:43.049531",
     "status": "completed"
    },
    "tags": []
   },
   "source": [
    "## Step 3: Make Predictions with Validation data\n"
   ]
  },
  {
   "cell_type": "code",
   "execution_count": 5,
   "id": "0415e5f0",
   "metadata": {
    "execution": {
     "iopub.execute_input": "2025-06-18T15:47:43.062165Z",
     "iopub.status.busy": "2025-06-18T15:47:43.061325Z",
     "iopub.status.idle": "2025-06-18T15:47:43.071884Z",
     "shell.execute_reply": "2025-06-18T15:47:43.070974Z"
    },
    "papermill": {
     "duration": 0.016779,
     "end_time": "2025-06-18T15:47:43.073533",
     "exception": false,
     "start_time": "2025-06-18T15:47:43.056754",
     "status": "completed"
    },
    "tags": []
   },
   "outputs": [
    {
     "data": {
      "application/javascript": [
       "parent.postMessage({\"jupyterEvent\": \"custom.exercise_interaction\", \"data\": {\"outcomeType\": 1, \"valueTowardsCompletion\": 0.25, \"interactionType\": 1, \"questionType\": 2, \"questionId\": \"3_ValPreds\", \"learnToolsVersion\": \"0.3.5\", \"failureMessage\": \"\", \"exceptionClass\": \"\", \"trace\": \"\"}}, \"*\")"
      ],
      "text/plain": [
       "<IPython.core.display.Javascript object>"
      ]
     },
     "metadata": {},
     "output_type": "display_data"
    },
    {
     "data": {
      "text/markdown": [
       "<span style=\"color:#33cc33\">Correct</span>"
      ],
      "text/plain": [
       "Correct"
      ]
     },
     "metadata": {},
     "output_type": "display_data"
    }
   ],
   "source": [
    "# Predict with all validation observations\n",
    "val_predictions = iowa_model.predict(val_X)\n",
    "\n",
    "# Check your answer\n",
    "step_3.check()"
   ]
  },
  {
   "cell_type": "code",
   "execution_count": 6,
   "id": "909ff6d5",
   "metadata": {
    "execution": {
     "iopub.execute_input": "2025-06-18T15:47:43.083255Z",
     "iopub.status.busy": "2025-06-18T15:47:43.082917Z",
     "iopub.status.idle": "2025-06-18T15:47:43.092897Z",
     "shell.execute_reply": "2025-06-18T15:47:43.092025Z"
    },
    "papermill": {
     "duration": 0.01665,
     "end_time": "2025-06-18T15:47:43.094259",
     "exception": false,
     "start_time": "2025-06-18T15:47:43.077609",
     "status": "completed"
    },
    "tags": []
   },
   "outputs": [
    {
     "data": {
      "application/javascript": [
       "parent.postMessage({\"jupyterEvent\": \"custom.exercise_interaction\", \"data\": {\"interactionType\": 2, \"questionType\": 2, \"questionId\": \"3_ValPreds\", \"learnToolsVersion\": \"0.3.5\", \"valueTowardsCompletion\": 0.0, \"failureMessage\": \"\", \"exceptionClass\": \"\", \"trace\": \"\", \"outcomeType\": 4}}, \"*\")"
      ],
      "text/plain": [
       "<IPython.core.display.Javascript object>"
      ]
     },
     "metadata": {},
     "output_type": "display_data"
    },
    {
     "data": {
      "text/markdown": [
       "<span style=\"color:#3366cc\">Hint:</span> Run predict on the right validation data object."
      ],
      "text/plain": [
       "Hint: Run predict on the right validation data object."
      ]
     },
     "metadata": {},
     "output_type": "display_data"
    },
    {
     "data": {
      "application/javascript": [
       "parent.postMessage({\"jupyterEvent\": \"custom.exercise_interaction\", \"data\": {\"interactionType\": 3, \"questionType\": 2, \"questionId\": \"3_ValPreds\", \"learnToolsVersion\": \"0.3.5\", \"valueTowardsCompletion\": 0.0, \"failureMessage\": \"\", \"exceptionClass\": \"\", \"trace\": \"\", \"outcomeType\": 4}}, \"*\")"
      ],
      "text/plain": [
       "<IPython.core.display.Javascript object>"
      ]
     },
     "metadata": {},
     "output_type": "display_data"
    },
    {
     "data": {
      "text/markdown": [
       "<span style=\"color:#33cc99\">Solution:</span> \n",
       "```python\n",
       "val_predictions = iowa_model.predict(val_X)\n",
       "```"
      ],
      "text/plain": [
       "Solution: \n",
       "```python\n",
       "val_predictions = iowa_model.predict(val_X)\n",
       "```"
      ]
     },
     "metadata": {},
     "output_type": "display_data"
    }
   ],
   "source": [
    "step_3.hint()\n",
    "step_3.solution()"
   ]
  },
  {
   "cell_type": "markdown",
   "id": "4b3523a4",
   "metadata": {
    "papermill": {
     "duration": 0.003904,
     "end_time": "2025-06-18T15:47:43.102487",
     "exception": false,
     "start_time": "2025-06-18T15:47:43.098583",
     "status": "completed"
    },
    "tags": []
   },
   "source": [
    "Inspect your predictions and actual values from validation data."
   ]
  },
  {
   "cell_type": "code",
   "execution_count": 7,
   "id": "f5c92381",
   "metadata": {
    "execution": {
     "iopub.execute_input": "2025-06-18T15:47:43.112338Z",
     "iopub.status.busy": "2025-06-18T15:47:43.111972Z",
     "iopub.status.idle": "2025-06-18T15:47:43.118228Z",
     "shell.execute_reply": "2025-06-18T15:47:43.117168Z"
    },
    "papermill": {
     "duration": 0.013015,
     "end_time": "2025-06-18T15:47:43.119727",
     "exception": false,
     "start_time": "2025-06-18T15:47:43.106712",
     "status": "completed"
    },
    "tags": []
   },
   "outputs": [
    {
     "name": "stdout",
     "output_type": "stream",
     "text": [
      "[186500. 184000. 130000.  92000.]\n",
      "--------------------------------\n",
      "6       307000\n",
      "807     223500\n",
      "955     145000\n",
      "1040    155000\n",
      "701     140000\n",
      "Name: SalePrice, dtype: int64\n"
     ]
    }
   ],
   "source": [
    "# print the top few validation predictions\n",
    "print(val_predictions[0:4])\n",
    "print(\"--------------------------------\")\n",
    "# print the top few actual prices from validation data\n",
    "print(train_y.head())"
   ]
  },
  {
   "cell_type": "markdown",
   "id": "01695bdb",
   "metadata": {
    "papermill": {
     "duration": 0.004074,
     "end_time": "2025-06-18T15:47:43.128543",
     "exception": false,
     "start_time": "2025-06-18T15:47:43.124469",
     "status": "completed"
    },
    "tags": []
   },
   "source": [
    "What do you notice that is different from what you saw with in-sample predictions (which are printed after the top code cell in this page).\n",
    "\n",
    "Do you remember why validation predictions differ from in-sample (or training) predictions? This is an important idea from the last lesson.\n",
    "\n",
    "## Step 4: Calculate the Mean Absolute Error in Validation Data\n"
   ]
  },
  {
   "cell_type": "code",
   "execution_count": 8,
   "id": "c2989cad",
   "metadata": {
    "execution": {
     "iopub.execute_input": "2025-06-18T15:47:43.138083Z",
     "iopub.status.busy": "2025-06-18T15:47:43.137780Z",
     "iopub.status.idle": "2025-06-18T15:47:43.147694Z",
     "shell.execute_reply": "2025-06-18T15:47:43.146766Z"
    },
    "papermill": {
     "duration": 0.016519,
     "end_time": "2025-06-18T15:47:43.149233",
     "exception": false,
     "start_time": "2025-06-18T15:47:43.132714",
     "status": "completed"
    },
    "tags": []
   },
   "outputs": [
    {
     "name": "stdout",
     "output_type": "stream",
     "text": [
      "29652.931506849316\n"
     ]
    },
    {
     "data": {
      "application/javascript": [
       "parent.postMessage({\"jupyterEvent\": \"custom.exercise_interaction\", \"data\": {\"outcomeType\": 1, \"valueTowardsCompletion\": 0.25, \"interactionType\": 1, \"questionType\": 1, \"questionId\": \"4_MAE\", \"learnToolsVersion\": \"0.3.5\", \"failureMessage\": \"\", \"exceptionClass\": \"\", \"trace\": \"\"}}, \"*\")"
      ],
      "text/plain": [
       "<IPython.core.display.Javascript object>"
      ]
     },
     "metadata": {},
     "output_type": "display_data"
    },
    {
     "data": {
      "text/markdown": [
       "<span style=\"color:#33cc33\">Correct</span>"
      ],
      "text/plain": [
       "Correct"
      ]
     },
     "metadata": {},
     "output_type": "display_data"
    }
   ],
   "source": [
    "from sklearn.metrics import mean_absolute_error\n",
    "val_mae = mean_absolute_error(val_y, val_predictions)\n",
    "\n",
    "# uncomment following line to see the validation_mae\n",
    "print(val_mae)\n",
    "\n",
    "# Check your answer\n",
    "step_4.check()"
   ]
  },
  {
   "cell_type": "code",
   "execution_count": 9,
   "id": "f58afe05",
   "metadata": {
    "execution": {
     "iopub.execute_input": "2025-06-18T15:47:43.161077Z",
     "iopub.status.busy": "2025-06-18T15:47:43.159966Z",
     "iopub.status.idle": "2025-06-18T15:47:43.164586Z",
     "shell.execute_reply": "2025-06-18T15:47:43.163747Z"
    },
    "papermill": {
     "duration": 0.012137,
     "end_time": "2025-06-18T15:47:43.166021",
     "exception": false,
     "start_time": "2025-06-18T15:47:43.153884",
     "status": "completed"
    },
    "tags": []
   },
   "outputs": [],
   "source": [
    "# step_4.hint()\n",
    "# step_4.solution()"
   ]
  },
  {
   "cell_type": "markdown",
   "id": "9b936ad4",
   "metadata": {
    "papermill": {
     "duration": 0.00427,
     "end_time": "2025-06-18T15:47:43.175116",
     "exception": false,
     "start_time": "2025-06-18T15:47:43.170846",
     "status": "completed"
    },
    "tags": []
   },
   "source": [
    "Is that MAE good?  There isn't a general rule for what values are good that applies across applications. But you'll see how to use (and improve) this number in the next step.\n",
    "\n",
    "# Keep Going\n",
    "\n",
    "You are ready for **[Underfitting and Overfitting](https://www.kaggle.com/dansbecker/underfitting-and-overfitting).**\n"
   ]
  },
  {
   "cell_type": "markdown",
   "id": "9e7ddead",
   "metadata": {
    "papermill": {
     "duration": 0.004343,
     "end_time": "2025-06-18T15:47:43.183938",
     "exception": false,
     "start_time": "2025-06-18T15:47:43.179595",
     "status": "completed"
    },
    "tags": []
   },
   "source": [
    "---\n",
    "\n",
    "\n",
    "\n",
    "\n",
    "*Have questions or comments? Visit the [course discussion forum](https://www.kaggle.com/learn/intro-to-machine-learning/discussion) to chat with other learners.*"
   ]
  }
 ],
 "metadata": {
  "kaggle": {
   "accelerator": "none",
   "dataSources": [
    {
     "databundleVersionId": 111096,
     "sourceId": 10211,
     "sourceType": "competition"
    },
    {
     "datasetId": 11167,
     "sourceId": 15520,
     "sourceType": "datasetVersion"
    },
    {
     "datasetId": 2709,
     "sourceId": 38454,
     "sourceType": "datasetVersion"
    }
   ],
   "isGpuEnabled": false,
   "isInternetEnabled": false,
   "language": "python",
   "sourceType": "notebook"
  },
  "kernelspec": {
   "display_name": "Python 3",
   "language": "python",
   "name": "python3"
  },
  "language_info": {
   "codemirror_mode": {
    "name": "ipython",
    "version": 3
   },
   "file_extension": ".py",
   "mimetype": "text/x-python",
   "name": "python",
   "nbconvert_exporter": "python",
   "pygments_lexer": "ipython3",
   "version": "3.11.11"
  },
  "papermill": {
   "default_parameters": {},
   "duration": 10.034525,
   "end_time": "2025-06-18T15:47:43.908967",
   "environment_variables": {},
   "exception": null,
   "input_path": "__notebook__.ipynb",
   "output_path": "__notebook__.ipynb",
   "parameters": {},
   "start_time": "2025-06-18T15:47:33.874442",
   "version": "2.6.0"
  }
 },
 "nbformat": 4,
 "nbformat_minor": 5
}
