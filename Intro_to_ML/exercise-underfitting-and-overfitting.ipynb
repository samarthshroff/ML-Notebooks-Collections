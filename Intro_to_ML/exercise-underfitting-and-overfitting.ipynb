{
 "cells": [
  {
   "cell_type": "markdown",
   "id": "eb0d3b47",
   "metadata": {
    "papermill": {
     "duration": 0.003241,
     "end_time": "2025-06-18T15:48:04.297058",
     "exception": false,
     "start_time": "2025-06-18T15:48:04.293817",
     "status": "completed"
    },
    "tags": []
   },
   "source": [
    "**This notebook is an exercise in the [Introduction to Machine Learning](https://www.kaggle.com/learn/intro-to-machine-learning) course.  You can reference the tutorial at [this link](https://www.kaggle.com/dansbecker/underfitting-and-overfitting).**\n",
    "\n",
    "---\n"
   ]
  },
  {
   "cell_type": "markdown",
   "id": "2dcf2f83",
   "metadata": {
    "papermill": {
     "duration": 0.002405,
     "end_time": "2025-06-18T15:48:04.302540",
     "exception": false,
     "start_time": "2025-06-18T15:48:04.300135",
     "status": "completed"
    },
    "tags": []
   },
   "source": [
    "## Recap\n",
    "You've built your first model, and now it's time to optimize the size of the tree to make better predictions. Run this cell to set up your coding environment where the previous step left off."
   ]
  },
  {
   "cell_type": "code",
   "execution_count": 1,
   "id": "21ebea27",
   "metadata": {
    "execution": {
     "iopub.execute_input": "2025-06-18T15:48:04.309385Z",
     "iopub.status.busy": "2025-06-18T15:48:04.308993Z",
     "iopub.status.idle": "2025-06-18T15:48:08.217904Z",
     "shell.execute_reply": "2025-06-18T15:48:08.216808Z"
    },
    "papermill": {
     "duration": 3.914478,
     "end_time": "2025-06-18T15:48:08.219619",
     "exception": false,
     "start_time": "2025-06-18T15:48:04.305141",
     "status": "completed"
    },
    "tags": []
   },
   "outputs": [
    {
     "name": "stdout",
     "output_type": "stream",
     "text": [
      "Validation MAE: 29,653\n",
      "\n",
      "Setup complete\n"
     ]
    }
   ],
   "source": [
    "# Code you have previously used to load data\n",
    "import pandas as pd\n",
    "from sklearn.metrics import mean_absolute_error\n",
    "from sklearn.model_selection import train_test_split\n",
    "from sklearn.tree import DecisionTreeRegressor\n",
    "\n",
    "\n",
    "# Path of the file to read\n",
    "iowa_file_path = '../input/home-data-for-ml-course/train.csv'\n",
    "\n",
    "home_data = pd.read_csv(iowa_file_path)\n",
    "# Create target object and call it y\n",
    "y = home_data.SalePrice\n",
    "# Create X\n",
    "features = ['LotArea', 'YearBuilt', '1stFlrSF', '2ndFlrSF', 'FullBath', 'BedroomAbvGr', 'TotRmsAbvGrd']\n",
    "X = home_data[features]\n",
    "\n",
    "# Split into validation and training data\n",
    "train_X, val_X, train_y, val_y = train_test_split(X, y, random_state=1)\n",
    "\n",
    "# Specify Model\n",
    "iowa_model = DecisionTreeRegressor(random_state=1)\n",
    "# Fit Model\n",
    "iowa_model.fit(train_X, train_y)\n",
    "\n",
    "# Make validation predictions and calculate mean absolute error\n",
    "val_predictions = iowa_model.predict(val_X)\n",
    "val_mae = mean_absolute_error(val_predictions, val_y)\n",
    "print(\"Validation MAE: {:,.0f}\".format(val_mae))\n",
    "\n",
    "# Set up code checking\n",
    "from learntools.core import binder\n",
    "binder.bind(globals())\n",
    "from learntools.machine_learning.ex5 import *\n",
    "print(\"\\nSetup complete\")"
   ]
  },
  {
   "cell_type": "markdown",
   "id": "db414d87",
   "metadata": {
    "papermill": {
     "duration": 0.002518,
     "end_time": "2025-06-18T15:48:08.225104",
     "exception": false,
     "start_time": "2025-06-18T15:48:08.222586",
     "status": "completed"
    },
    "tags": []
   },
   "source": [
    "# Exercises\n",
    "You could write the function `get_mae` yourself. For now, we'll supply it. This is the same function you read about in the previous lesson. Just run the cell below."
   ]
  },
  {
   "cell_type": "code",
   "execution_count": 2,
   "id": "ab2daaac",
   "metadata": {
    "execution": {
     "iopub.execute_input": "2025-06-18T15:48:08.231706Z",
     "iopub.status.busy": "2025-06-18T15:48:08.231349Z",
     "iopub.status.idle": "2025-06-18T15:48:08.236454Z",
     "shell.execute_reply": "2025-06-18T15:48:08.235676Z"
    },
    "papermill": {
     "duration": 0.01017,
     "end_time": "2025-06-18T15:48:08.237905",
     "exception": false,
     "start_time": "2025-06-18T15:48:08.227735",
     "status": "completed"
    },
    "tags": []
   },
   "outputs": [],
   "source": [
    "def get_mae(max_leaf_nodes, train_X, val_X, train_y, val_y):\n",
    "    model = DecisionTreeRegressor(max_leaf_nodes=max_leaf_nodes, random_state=0)\n",
    "    model.fit(train_X, train_y)\n",
    "    preds_val = model.predict(val_X)\n",
    "    mae = mean_absolute_error(val_y, preds_val)\n",
    "    return(mae)"
   ]
  },
  {
   "cell_type": "markdown",
   "id": "4a1bdd17",
   "metadata": {
    "papermill": {
     "duration": 0.002546,
     "end_time": "2025-06-18T15:48:08.243348",
     "exception": false,
     "start_time": "2025-06-18T15:48:08.240802",
     "status": "completed"
    },
    "tags": []
   },
   "source": [
    "## Step 1: Compare Different Tree Sizes\n",
    "Write a loop that tries the following values for *max_leaf_nodes* from a set of possible values.\n",
    "\n",
    "Call the *get_mae* function on each value of max_leaf_nodes. Store the output in some way that allows you to select the value of `max_leaf_nodes` that gives the most accurate model on your data."
   ]
  },
  {
   "cell_type": "code",
   "execution_count": 3,
   "id": "9ab4289a",
   "metadata": {
    "execution": {
     "iopub.execute_input": "2025-06-18T15:48:08.250100Z",
     "iopub.status.busy": "2025-06-18T15:48:08.249717Z",
     "iopub.status.idle": "2025-06-18T15:48:08.295941Z",
     "shell.execute_reply": "2025-06-18T15:48:08.294893Z"
    },
    "papermill": {
     "duration": 0.051539,
     "end_time": "2025-06-18T15:48:08.297595",
     "exception": false,
     "start_time": "2025-06-18T15:48:08.246056",
     "status": "completed"
    },
    "tags": []
   },
   "outputs": [
    {
     "data": {
      "application/javascript": [
       "parent.postMessage({\"jupyterEvent\": \"custom.exercise_interaction\", \"data\": {\"outcomeType\": 1, \"valueTowardsCompletion\": 0.5, \"interactionType\": 1, \"questionType\": 1, \"questionId\": \"1_BestTreeSize\", \"learnToolsVersion\": \"0.3.5\", \"failureMessage\": \"\", \"exceptionClass\": \"\", \"trace\": \"\"}}, \"*\")"
      ],
      "text/plain": [
       "<IPython.core.display.Javascript object>"
      ]
     },
     "metadata": {},
     "output_type": "display_data"
    },
    {
     "data": {
      "text/markdown": [
       "<span style=\"color:#33cc33\">Correct</span>"
      ],
      "text/plain": [
       "Correct"
      ]
     },
     "metadata": {},
     "output_type": "display_data"
    }
   ],
   "source": [
    "import sys\n",
    "\n",
    "candidate_max_leaf_nodes = [5, 25, 50, 100, 250, 500]\n",
    "mae: float = sys.float_info.max\n",
    "ideal_max_leaf_node : int = 0\n",
    "# Write loop to find the ideal tree size from candidate_max_leaf_nodes\n",
    "for max_leaf_nodes in candidate_max_leaf_nodes:\n",
    "    returned_mae = get_mae(max_leaf_nodes, train_X, val_X, train_y, val_y)\n",
    "    if returned_mae < mae:\n",
    "        mae = returned_mae\n",
    "        ideal_max_leaf_node = max_leaf_nodes\n",
    "\n",
    "# Store the best value of max_leaf_nodes (it will be either 5, 25, 50, 100, 250 or 500)\n",
    "best_tree_size = ideal_max_leaf_node\n",
    "\n",
    "# Check your answer\n",
    "step_1.check()"
   ]
  },
  {
   "cell_type": "code",
   "execution_count": 4,
   "id": "0d13fb6e",
   "metadata": {
    "execution": {
     "iopub.execute_input": "2025-06-18T15:48:08.304931Z",
     "iopub.status.busy": "2025-06-18T15:48:08.304573Z",
     "iopub.status.idle": "2025-06-18T15:48:08.309493Z",
     "shell.execute_reply": "2025-06-18T15:48:08.308306Z"
    },
    "papermill": {
     "duration": 0.010689,
     "end_time": "2025-06-18T15:48:08.311330",
     "exception": false,
     "start_time": "2025-06-18T15:48:08.300641",
     "status": "completed"
    },
    "tags": []
   },
   "outputs": [],
   "source": [
    "# The lines below will show you a hint or the solution.\n",
    "# step_1.hint() \n",
    "# step_1.solution()"
   ]
  },
  {
   "cell_type": "markdown",
   "id": "cea29a98",
   "metadata": {
    "papermill": {
     "duration": 0.002934,
     "end_time": "2025-06-18T15:48:08.317683",
     "exception": false,
     "start_time": "2025-06-18T15:48:08.314749",
     "status": "completed"
    },
    "tags": []
   },
   "source": [
    "## Step 2: Fit Model Using All Data\n",
    "You know the best tree size. If you were going to deploy this model in practice, you would make it even more accurate by using all of the data and keeping that tree size.  That is, you don't need to hold out the validation data now that you've made all your modeling decisions."
   ]
  },
  {
   "cell_type": "code",
   "execution_count": 5,
   "id": "cc767773",
   "metadata": {
    "execution": {
     "iopub.execute_input": "2025-06-18T15:48:08.325825Z",
     "iopub.status.busy": "2025-06-18T15:48:08.325196Z",
     "iopub.status.idle": "2025-06-18T15:48:08.340780Z",
     "shell.execute_reply": "2025-06-18T15:48:08.339840Z"
    },
    "papermill": {
     "duration": 0.02107,
     "end_time": "2025-06-18T15:48:08.342304",
     "exception": false,
     "start_time": "2025-06-18T15:48:08.321234",
     "status": "completed"
    },
    "tags": []
   },
   "outputs": [
    {
     "data": {
      "application/javascript": [
       "parent.postMessage({\"jupyterEvent\": \"custom.exercise_interaction\", \"data\": {\"outcomeType\": 1, \"valueTowardsCompletion\": 0.5, \"interactionType\": 1, \"questionType\": 2, \"questionId\": \"2_FitModelWithAllData\", \"learnToolsVersion\": \"0.3.5\", \"failureMessage\": \"\", \"exceptionClass\": \"\", \"trace\": \"\"}}, \"*\")"
      ],
      "text/plain": [
       "<IPython.core.display.Javascript object>"
      ]
     },
     "metadata": {},
     "output_type": "display_data"
    },
    {
     "data": {
      "text/markdown": [
       "<span style=\"color:#33cc33\">Correct</span>"
      ],
      "text/plain": [
       "Correct"
      ]
     },
     "metadata": {},
     "output_type": "display_data"
    }
   ],
   "source": [
    "# Fill in argument to make optimal size and uncomment\n",
    "final_model = DecisionTreeRegressor(max_leaf_nodes=best_tree_size, random_state=0)\n",
    "\n",
    "# fit the final model and uncomment the next two lines\n",
    "final_model.fit(X, y)\n",
    "\n",
    "# Check your answer\n",
    "step_2.check()"
   ]
  },
  {
   "cell_type": "code",
   "execution_count": 6,
   "id": "d19cabd8",
   "metadata": {
    "execution": {
     "iopub.execute_input": "2025-06-18T15:48:08.350003Z",
     "iopub.status.busy": "2025-06-18T15:48:08.349661Z",
     "iopub.status.idle": "2025-06-18T15:48:08.354058Z",
     "shell.execute_reply": "2025-06-18T15:48:08.352912Z"
    },
    "papermill": {
     "duration": 0.010084,
     "end_time": "2025-06-18T15:48:08.355618",
     "exception": false,
     "start_time": "2025-06-18T15:48:08.345534",
     "status": "completed"
    },
    "tags": []
   },
   "outputs": [],
   "source": [
    "# step_2.hint()\n",
    "# step_2.solution()"
   ]
  },
  {
   "cell_type": "markdown",
   "id": "7e977b5b",
   "metadata": {
    "papermill": {
     "duration": 0.002947,
     "end_time": "2025-06-18T15:48:08.361814",
     "exception": false,
     "start_time": "2025-06-18T15:48:08.358867",
     "status": "completed"
    },
    "tags": []
   },
   "source": [
    "You've tuned this model and improved your results. But we are still using Decision Tree models, which are not very sophisticated by modern machine learning standards. In the next step you will learn to use Random Forests to improve your models even more.\n",
    "\n",
    "# Keep Going\n",
    "\n",
    "You are ready for **[Random Forests](https://www.kaggle.com/dansbecker/random-forests).**\n"
   ]
  },
  {
   "cell_type": "markdown",
   "id": "5b58b65c",
   "metadata": {
    "papermill": {
     "duration": 0.002814,
     "end_time": "2025-06-18T15:48:08.367689",
     "exception": false,
     "start_time": "2025-06-18T15:48:08.364875",
     "status": "completed"
    },
    "tags": []
   },
   "source": [
    "---\n",
    "\n",
    "\n",
    "\n",
    "\n",
    "*Have questions or comments? Visit the [course discussion forum](https://www.kaggle.com/learn/intro-to-machine-learning/discussion) to chat with other learners.*"
   ]
  }
 ],
 "metadata": {
  "kaggle": {
   "accelerator": "none",
   "dataSources": [
    {
     "databundleVersionId": 111096,
     "sourceId": 10211,
     "sourceType": "competition"
    },
    {
     "datasetId": 11167,
     "sourceId": 15520,
     "sourceType": "datasetVersion"
    },
    {
     "datasetId": 2709,
     "sourceId": 38454,
     "sourceType": "datasetVersion"
    }
   ],
   "isGpuEnabled": false,
   "isInternetEnabled": false,
   "language": "python",
   "sourceType": "notebook"
  },
  "kernelspec": {
   "display_name": "Python 3",
   "language": "python",
   "name": "python3"
  },
  "language_info": {
   "codemirror_mode": {
    "name": "ipython",
    "version": 3
   },
   "file_extension": ".py",
   "mimetype": "text/x-python",
   "name": "python",
   "nbconvert_exporter": "python",
   "pygments_lexer": "ipython3",
   "version": "3.11.11"
  },
  "papermill": {
   "default_parameters": {},
   "duration": 9.751457,
   "end_time": "2025-06-18T15:48:09.091590",
   "environment_variables": {},
   "exception": null,
   "input_path": "__notebook__.ipynb",
   "output_path": "__notebook__.ipynb",
   "parameters": {},
   "start_time": "2025-06-18T15:47:59.340133",
   "version": "2.6.0"
  }
 },
 "nbformat": 4,
 "nbformat_minor": 5
}
