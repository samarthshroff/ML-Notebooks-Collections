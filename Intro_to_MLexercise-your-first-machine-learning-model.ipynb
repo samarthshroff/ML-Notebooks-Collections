{
 "cells": [
  {
   "cell_type": "markdown",
   "id": "f0726f7b",
   "metadata": {
    "papermill": {
     "duration": 0.00442,
     "end_time": "2025-06-18T15:46:51.533665",
     "exception": false,
     "start_time": "2025-06-18T15:46:51.529245",
     "status": "completed"
    },
    "tags": []
   },
   "source": [
    "**This notebook is an exercise in the [Introduction to Machine Learning](https://www.kaggle.com/learn/intro-to-machine-learning) course.  You can reference the tutorial at [this link](https://www.kaggle.com/dansbecker/your-first-machine-learning-model).**\n",
    "\n",
    "---\n"
   ]
  },
  {
   "cell_type": "markdown",
   "id": "1bc85157",
   "metadata": {
    "papermill": {
     "duration": 0.00331,
     "end_time": "2025-06-18T15:46:51.540811",
     "exception": false,
     "start_time": "2025-06-18T15:46:51.537501",
     "status": "completed"
    },
    "tags": []
   },
   "source": [
    "## Recap\n",
    "So far, you have loaded your data and reviewed it with the following code. Run this cell to set up your coding environment where the previous step left off."
   ]
  },
  {
   "cell_type": "code",
   "execution_count": 1,
   "id": "3c2586af",
   "metadata": {
    "execution": {
     "iopub.execute_input": "2025-06-18T15:46:51.549202Z",
     "iopub.status.busy": "2025-06-18T15:46:51.548890Z",
     "iopub.status.idle": "2025-06-18T15:46:55.401617Z",
     "shell.execute_reply": "2025-06-18T15:46:55.400273Z"
    },
    "papermill": {
     "duration": 3.859259,
     "end_time": "2025-06-18T15:46:55.403610",
     "exception": false,
     "start_time": "2025-06-18T15:46:51.544351",
     "status": "completed"
    },
    "tags": []
   },
   "outputs": [
    {
     "name": "stdout",
     "output_type": "stream",
     "text": [
      "Setup Complete\n"
     ]
    }
   ],
   "source": [
    "# Code you have previously used to load data\n",
    "import pandas as pd\n",
    "\n",
    "# Path of the file to read\n",
    "iowa_file_path = '../input/home-data-for-ml-course/train.csv'\n",
    "\n",
    "home_data = pd.read_csv(iowa_file_path)\n",
    "\n",
    "# Set up code checking\n",
    "from learntools.core import binder\n",
    "binder.bind(globals())\n",
    "from learntools.machine_learning.ex3 import *\n",
    "\n",
    "print(\"Setup Complete\")"
   ]
  },
  {
   "cell_type": "markdown",
   "id": "4574e1ab",
   "metadata": {
    "papermill": {
     "duration": 0.00372,
     "end_time": "2025-06-18T15:46:55.411281",
     "exception": false,
     "start_time": "2025-06-18T15:46:55.407561",
     "status": "completed"
    },
    "tags": []
   },
   "source": [
    "# Exercises\n",
    "\n",
    "## Step 1: Specify Prediction Target\n",
    "Select the target variable, which corresponds to the sales price. Save this to a new variable called `y`. You'll need to print a list of the columns to find the name of the column you need.\n"
   ]
  },
  {
   "cell_type": "markdown",
   "id": "dc431897",
   "metadata": {
    "collapsed": true,
    "jupyter": {
     "outputs_hidden": true
    },
    "papermill": {
     "duration": 0.003241,
     "end_time": "2025-06-18T15:46:55.418156",
     "exception": false,
     "start_time": "2025-06-18T15:46:55.414915",
     "status": "completed"
    },
    "tags": []
   },
   "source": [
    "# print the list of columns in the dataset to find the name of the prediction target\n",
    "print(dir(home_data"
   ]
  },
  {
   "cell_type": "code",
   "execution_count": 2,
   "id": "089ca03c",
   "metadata": {
    "execution": {
     "iopub.execute_input": "2025-06-18T15:46:55.426636Z",
     "iopub.status.busy": "2025-06-18T15:46:55.426245Z",
     "iopub.status.idle": "2025-06-18T15:46:55.439512Z",
     "shell.execute_reply": "2025-06-18T15:46:55.438602Z"
    },
    "papermill": {
     "duration": 0.019498,
     "end_time": "2025-06-18T15:46:55.441207",
     "exception": false,
     "start_time": "2025-06-18T15:46:55.421709",
     "status": "completed"
    },
    "tags": []
   },
   "outputs": [
    {
     "data": {
      "application/javascript": [
       "parent.postMessage({\"jupyterEvent\": \"custom.exercise_interaction\", \"data\": {\"outcomeType\": 1, \"valueTowardsCompletion\": 0.25, \"interactionType\": 1, \"questionType\": 2, \"questionId\": \"1_SetTarget\", \"learnToolsVersion\": \"0.3.5\", \"failureMessage\": \"\", \"exceptionClass\": \"\", \"trace\": \"\"}}, \"*\")"
      ],
      "text/plain": [
       "<IPython.core.display.Javascript object>"
      ]
     },
     "metadata": {},
     "output_type": "display_data"
    },
    {
     "data": {
      "text/markdown": [
       "<span style=\"color:#33cc33\">Correct</span>"
      ],
      "text/plain": [
       "Correct"
      ]
     },
     "metadata": {},
     "output_type": "display_data"
    }
   ],
   "source": [
    "y = home_data.SalePrice\n",
    "\n",
    "# Check your answer\n",
    "step_1.check()"
   ]
  },
  {
   "cell_type": "code",
   "execution_count": 3,
   "id": "77a65090",
   "metadata": {
    "collapsed": true,
    "execution": {
     "iopub.execute_input": "2025-06-18T15:46:55.450065Z",
     "iopub.status.busy": "2025-06-18T15:46:55.449782Z",
     "iopub.status.idle": "2025-06-18T15:46:55.453876Z",
     "shell.execute_reply": "2025-06-18T15:46:55.452949Z"
    },
    "jupyter": {
     "outputs_hidden": true
    },
    "papermill": {
     "duration": 0.010167,
     "end_time": "2025-06-18T15:46:55.455330",
     "exception": false,
     "start_time": "2025-06-18T15:46:55.445163",
     "status": "completed"
    },
    "tags": []
   },
   "outputs": [],
   "source": [
    "# The lines below will show you a hint or the solution.\n",
    "# step_1.hint() \n",
    "# step_1.solution()"
   ]
  },
  {
   "cell_type": "markdown",
   "id": "35001f52",
   "metadata": {
    "papermill": {
     "duration": 0.003559,
     "end_time": "2025-06-18T15:46:55.462806",
     "exception": false,
     "start_time": "2025-06-18T15:46:55.459247",
     "status": "completed"
    },
    "tags": []
   },
   "source": [
    "## Step 2: Create X\n",
    "Now you will create a DataFrame called `X` holding the predictive features.\n",
    "\n",
    "Since you want only some columns from the original data, you'll first create a list with the names of the columns you want in `X`.\n",
    "\n",
    "You'll use just the following columns in the list (you can copy and paste the whole list to save some typing, though you'll still need to add quotes):\n",
    "  * LotArea\n",
    "  * YearBuilt\n",
    "  * 1stFlrSF\n",
    "  * 2ndFlrSF\n",
    "  * FullBath\n",
    "  * BedroomAbvGr\n",
    "  * TotRmsAbvGrd\n",
    "\n",
    "After you've created that list of features, use it to create the DataFrame that you'll use to fit the model."
   ]
  },
  {
   "cell_type": "code",
   "execution_count": 4,
   "id": "14d3a6e7",
   "metadata": {
    "execution": {
     "iopub.execute_input": "2025-06-18T15:46:55.471890Z",
     "iopub.status.busy": "2025-06-18T15:46:55.471478Z",
     "iopub.status.idle": "2025-06-18T15:46:55.483229Z",
     "shell.execute_reply": "2025-06-18T15:46:55.482369Z"
    },
    "papermill": {
     "duration": 0.017898,
     "end_time": "2025-06-18T15:46:55.484625",
     "exception": false,
     "start_time": "2025-06-18T15:46:55.466727",
     "status": "completed"
    },
    "tags": []
   },
   "outputs": [
    {
     "data": {
      "application/javascript": [
       "parent.postMessage({\"jupyterEvent\": \"custom.exercise_interaction\", \"data\": {\"outcomeType\": 1, \"valueTowardsCompletion\": 0.25, \"interactionType\": 1, \"questionType\": 2, \"questionId\": \"2_SelectPredictionData\", \"learnToolsVersion\": \"0.3.5\", \"failureMessage\": \"\", \"exceptionClass\": \"\", \"trace\": \"\"}}, \"*\")"
      ],
      "text/plain": [
       "<IPython.core.display.Javascript object>"
      ]
     },
     "metadata": {},
     "output_type": "display_data"
    },
    {
     "data": {
      "text/markdown": [
       "<span style=\"color:#33cc33\">Correct</span>"
      ],
      "text/plain": [
       "Correct"
      ]
     },
     "metadata": {},
     "output_type": "display_data"
    }
   ],
   "source": [
    "# Create the list of features below\n",
    "feature_names = [\"LotArea\",\"YearBuilt\",\"1stFlrSF\",\"2ndFlrSF\",\"FullBath\",\"BedroomAbvGr\",\"TotRmsAbvGrd\"]\n",
    "\n",
    "# Select data corresponding to features in feature_names\n",
    "X = home_data[feature_names]\n",
    "\n",
    "# Check your answer\n",
    "step_2.check()"
   ]
  },
  {
   "cell_type": "code",
   "execution_count": 5,
   "id": "f8efbc4a",
   "metadata": {
    "collapsed": true,
    "execution": {
     "iopub.execute_input": "2025-06-18T15:46:55.493796Z",
     "iopub.status.busy": "2025-06-18T15:46:55.493167Z",
     "iopub.status.idle": "2025-06-18T15:46:55.496455Z",
     "shell.execute_reply": "2025-06-18T15:46:55.495873Z"
    },
    "jupyter": {
     "outputs_hidden": true
    },
    "papermill": {
     "duration": 0.009074,
     "end_time": "2025-06-18T15:46:55.497717",
     "exception": false,
     "start_time": "2025-06-18T15:46:55.488643",
     "status": "completed"
    },
    "tags": []
   },
   "outputs": [],
   "source": [
    "# step_2.hint()\n",
    "# step_2.solution()"
   ]
  },
  {
   "cell_type": "markdown",
   "id": "4e65cfa1",
   "metadata": {
    "papermill": {
     "duration": 0.003721,
     "end_time": "2025-06-18T15:46:55.505313",
     "exception": false,
     "start_time": "2025-06-18T15:46:55.501592",
     "status": "completed"
    },
    "tags": []
   },
   "source": [
    "## Review Data\n",
    "Before building a model, take a quick look at **X** to verify it looks sensible"
   ]
  },
  {
   "cell_type": "code",
   "execution_count": 6,
   "id": "c260e2f1",
   "metadata": {
    "execution": {
     "iopub.execute_input": "2025-06-18T15:46:55.514063Z",
     "iopub.status.busy": "2025-06-18T15:46:55.513701Z",
     "iopub.status.idle": "2025-06-18T15:46:55.545284Z",
     "shell.execute_reply": "2025-06-18T15:46:55.544198Z"
    },
    "papermill": {
     "duration": 0.037909,
     "end_time": "2025-06-18T15:46:55.546964",
     "exception": false,
     "start_time": "2025-06-18T15:46:55.509055",
     "status": "completed"
    },
    "tags": []
   },
   "outputs": [
    {
     "name": "stdout",
     "output_type": "stream",
     "text": [
      "             LotArea    YearBuilt     1stFlrSF     2ndFlrSF     FullBath  \\\n",
      "count    1460.000000  1460.000000  1460.000000  1460.000000  1460.000000   \n",
      "mean    10516.828082  1971.267808  1162.626712   346.992466     1.565068   \n",
      "std      9981.264932    30.202904   386.587738   436.528436     0.550916   \n",
      "min      1300.000000  1872.000000   334.000000     0.000000     0.000000   \n",
      "25%      7553.500000  1954.000000   882.000000     0.000000     1.000000   \n",
      "50%      9478.500000  1973.000000  1087.000000     0.000000     2.000000   \n",
      "75%     11601.500000  2000.000000  1391.250000   728.000000     2.000000   \n",
      "max    215245.000000  2010.000000  4692.000000  2065.000000     3.000000   \n",
      "\n",
      "       BedroomAbvGr  TotRmsAbvGrd  \n",
      "count   1460.000000   1460.000000  \n",
      "mean       2.866438      6.517808  \n",
      "std        0.815778      1.625393  \n",
      "min        0.000000      2.000000  \n",
      "25%        2.000000      5.000000  \n",
      "50%        3.000000      6.000000  \n",
      "75%        3.000000      7.000000  \n",
      "max        8.000000     14.000000  \n",
      "   LotArea  YearBuilt  1stFlrSF  2ndFlrSF  FullBath  BedroomAbvGr  \\\n",
      "0     8450       2003       856       854         2             3   \n",
      "1     9600       1976      1262         0         2             3   \n",
      "2    11250       2001       920       866         2             3   \n",
      "3     9550       1915       961       756         1             3   \n",
      "4    14260       2000      1145      1053         2             4   \n",
      "\n",
      "   TotRmsAbvGrd  \n",
      "0             8  \n",
      "1             6  \n",
      "2             6  \n",
      "3             7  \n",
      "4             9  \n"
     ]
    }
   ],
   "source": [
    "# Review data\n",
    "# print description or statistics from X\n",
    "#print(_)\n",
    "print(X.describe())\n",
    "\n",
    "# print the top few lines\n",
    "print(X.head())"
   ]
  },
  {
   "cell_type": "markdown",
   "id": "7373b170",
   "metadata": {
    "papermill": {
     "duration": 0.003961,
     "end_time": "2025-06-18T15:46:55.555287",
     "exception": false,
     "start_time": "2025-06-18T15:46:55.551326",
     "status": "completed"
    },
    "tags": []
   },
   "source": [
    "## Step 3: Specify and Fit Model\n",
    "Create a `DecisionTreeRegressor` and save it iowa_model. Ensure you've done the relevant import from sklearn to run this command.\n",
    "\n",
    "Then fit the model you just created using the data in `X` and `y` that you saved above."
   ]
  },
  {
   "cell_type": "code",
   "execution_count": 7,
   "id": "b23f9fcd",
   "metadata": {
    "execution": {
     "iopub.execute_input": "2025-06-18T15:46:55.564502Z",
     "iopub.status.busy": "2025-06-18T15:46:55.564203Z",
     "iopub.status.idle": "2025-06-18T15:46:55.580198Z",
     "shell.execute_reply": "2025-06-18T15:46:55.579472Z"
    },
    "papermill": {
     "duration": 0.022143,
     "end_time": "2025-06-18T15:46:55.581527",
     "exception": false,
     "start_time": "2025-06-18T15:46:55.559384",
     "status": "completed"
    },
    "tags": []
   },
   "outputs": [
    {
     "data": {
      "application/javascript": [
       "parent.postMessage({\"jupyterEvent\": \"custom.exercise_interaction\", \"data\": {\"outcomeType\": 1, \"valueTowardsCompletion\": 0.25, \"interactionType\": 1, \"questionType\": 2, \"questionId\": \"3_CreateModel\", \"learnToolsVersion\": \"0.3.5\", \"failureMessage\": \"\", \"exceptionClass\": \"\", \"trace\": \"\"}}, \"*\")"
      ],
      "text/plain": [
       "<IPython.core.display.Javascript object>"
      ]
     },
     "metadata": {},
     "output_type": "display_data"
    },
    {
     "data": {
      "text/markdown": [
       "<span style=\"color:#33cc33\">Correct</span>"
      ],
      "text/plain": [
       "Correct"
      ]
     },
     "metadata": {},
     "output_type": "display_data"
    }
   ],
   "source": [
    "from sklearn.tree import DecisionTreeRegressor\n",
    "#specify the model. \n",
    "#For model reproducibility, set a numeric value for random_state when specifying the model\n",
    "iowa_model = DecisionTreeRegressor(random_state=1)\n",
    "\n",
    "# Fit the model\n",
    "iowa_model.fit(X,y)\n",
    "\n",
    "# Check your answer\n",
    "step_3.check()"
   ]
  },
  {
   "cell_type": "code",
   "execution_count": 8,
   "id": "7511c5b8",
   "metadata": {
    "collapsed": true,
    "execution": {
     "iopub.execute_input": "2025-06-18T15:46:55.592084Z",
     "iopub.status.busy": "2025-06-18T15:46:55.591681Z",
     "iopub.status.idle": "2025-06-18T15:46:55.595669Z",
     "shell.execute_reply": "2025-06-18T15:46:55.594799Z"
    },
    "jupyter": {
     "outputs_hidden": true
    },
    "papermill": {
     "duration": 0.010618,
     "end_time": "2025-06-18T15:46:55.597103",
     "exception": false,
     "start_time": "2025-06-18T15:46:55.586485",
     "status": "completed"
    },
    "tags": []
   },
   "outputs": [],
   "source": [
    "# step_3.hint()\n",
    "# step_3.solution()"
   ]
  },
  {
   "cell_type": "markdown",
   "id": "42fbdf42",
   "metadata": {
    "papermill": {
     "duration": 0.004045,
     "end_time": "2025-06-18T15:46:55.605409",
     "exception": false,
     "start_time": "2025-06-18T15:46:55.601364",
     "status": "completed"
    },
    "tags": []
   },
   "source": [
    "## Step 4: Make Predictions\n",
    "Make predictions with the model's `predict` command using `X` as the data. Save the results to a variable called `predictions`."
   ]
  },
  {
   "cell_type": "code",
   "execution_count": 9,
   "id": "8bc47747",
   "metadata": {
    "execution": {
     "iopub.execute_input": "2025-06-18T15:46:55.615230Z",
     "iopub.status.busy": "2025-06-18T15:46:55.614870Z",
     "iopub.status.idle": "2025-06-18T15:46:55.626544Z",
     "shell.execute_reply": "2025-06-18T15:46:55.625644Z"
    },
    "papermill": {
     "duration": 0.018465,
     "end_time": "2025-06-18T15:46:55.628083",
     "exception": false,
     "start_time": "2025-06-18T15:46:55.609618",
     "status": "completed"
    },
    "tags": []
   },
   "outputs": [
    {
     "name": "stdout",
     "output_type": "stream",
     "text": [
      "[208500. 181500. 223500. ... 266500. 142125. 147500.]\n"
     ]
    },
    {
     "data": {
      "application/javascript": [
       "parent.postMessage({\"jupyterEvent\": \"custom.exercise_interaction\", \"data\": {\"outcomeType\": 1, \"valueTowardsCompletion\": 0.25, \"interactionType\": 1, \"questionType\": 2, \"questionId\": \"4_MakePredictions\", \"learnToolsVersion\": \"0.3.5\", \"failureMessage\": \"\", \"exceptionClass\": \"\", \"trace\": \"\"}}, \"*\")"
      ],
      "text/plain": [
       "<IPython.core.display.Javascript object>"
      ]
     },
     "metadata": {},
     "output_type": "display_data"
    },
    {
     "data": {
      "text/markdown": [
       "<span style=\"color:#33cc33\">Correct</span>"
      ],
      "text/plain": [
       "Correct"
      ]
     },
     "metadata": {},
     "output_type": "display_data"
    }
   ],
   "source": [
    "predictions = iowa_model.predict(X)\n",
    "print(predictions)\n",
    "\n",
    "# Check your answer\n",
    "step_4.check()"
   ]
  },
  {
   "cell_type": "code",
   "execution_count": 10,
   "id": "fb1033a6",
   "metadata": {
    "collapsed": true,
    "execution": {
     "iopub.execute_input": "2025-06-18T15:46:55.638596Z",
     "iopub.status.busy": "2025-06-18T15:46:55.638314Z",
     "iopub.status.idle": "2025-06-18T15:46:55.642506Z",
     "shell.execute_reply": "2025-06-18T15:46:55.641521Z"
    },
    "jupyter": {
     "outputs_hidden": true
    },
    "papermill": {
     "duration": 0.011202,
     "end_time": "2025-06-18T15:46:55.644020",
     "exception": false,
     "start_time": "2025-06-18T15:46:55.632818",
     "status": "completed"
    },
    "tags": []
   },
   "outputs": [],
   "source": [
    "# step_4.hint()\n",
    "# step_4.solution()"
   ]
  },
  {
   "cell_type": "markdown",
   "id": "9111d116",
   "metadata": {
    "papermill": {
     "duration": 0.004766,
     "end_time": "2025-06-18T15:46:55.654191",
     "exception": false,
     "start_time": "2025-06-18T15:46:55.649425",
     "status": "completed"
    },
    "tags": []
   },
   "source": [
    "## Think About Your Results\n",
    "\n",
    "Use the `head` method to compare the top few predictions to the actual home values (in `y`) for those same homes. Anything surprising?\n"
   ]
  },
  {
   "cell_type": "code",
   "execution_count": 11,
   "id": "8b0e36bb",
   "metadata": {
    "execution": {
     "iopub.execute_input": "2025-06-18T15:46:55.665048Z",
     "iopub.status.busy": "2025-06-18T15:46:55.664700Z",
     "iopub.status.idle": "2025-06-18T15:46:55.672610Z",
     "shell.execute_reply": "2025-06-18T15:46:55.671691Z"
    },
    "papermill": {
     "duration": 0.015014,
     "end_time": "2025-06-18T15:46:55.674210",
     "exception": false,
     "start_time": "2025-06-18T15:46:55.659196",
     "status": "completed"
    },
    "tags": []
   },
   "outputs": [
    {
     "name": "stdout",
     "output_type": "stream",
     "text": [
      "the actual home values are: \n",
      "0       208500\n",
      "1       181500\n",
      "2       223500\n",
      "3       140000\n",
      "4       250000\n",
      "         ...  \n",
      "1455    175000\n",
      "1456    210000\n",
      "1457    266500\n",
      "1458    142125\n",
      "1459    147500\n",
      "Name: SalePrice, Length: 1460, dtype: int64\n",
      "The first few predictions are: \n",
      "[208500. 181500. 223500. 140000. 250000.]\n"
     ]
    }
   ],
   "source": [
    "# You can write code in this cell\n",
    "print(\"the actual home values are: \")\n",
    "print(y)\n",
    "print(\"The first few predictions are: \")\n",
    "print(iowa_model.predict(X.head()))"
   ]
  },
  {
   "cell_type": "markdown",
   "id": "b8b01385",
   "metadata": {
    "papermill": {
     "duration": 0.004807,
     "end_time": "2025-06-18T15:46:55.683836",
     "exception": false,
     "start_time": "2025-06-18T15:46:55.679029",
     "status": "completed"
    },
    "tags": []
   },
   "source": [
    "It's natural to ask how accurate the model's predictions will be and how you can improve that. That will be you're next step.\n",
    "\n",
    "# Keep Going\n",
    "\n",
    "You are ready for **[Model Validation](https://www.kaggle.com/dansbecker/model-validation).**\n"
   ]
  },
  {
   "cell_type": "markdown",
   "id": "87766fe0",
   "metadata": {
    "papermill": {
     "duration": 0.00424,
     "end_time": "2025-06-18T15:46:55.692672",
     "exception": false,
     "start_time": "2025-06-18T15:46:55.688432",
     "status": "completed"
    },
    "tags": []
   },
   "source": [
    "---\n",
    "\n",
    "\n",
    "\n",
    "\n",
    "*Have questions or comments? Visit the [course discussion forum](https://www.kaggle.com/learn/intro-to-machine-learning/discussion) to chat with other learners.*"
   ]
  }
 ],
 "metadata": {
  "kaggle": {
   "accelerator": "none",
   "dataSources": [
    {
     "databundleVersionId": 111096,
     "sourceId": 10211,
     "sourceType": "competition"
    },
    {
     "datasetId": 11167,
     "sourceId": 15520,
     "sourceType": "datasetVersion"
    },
    {
     "datasetId": 2709,
     "sourceId": 38454,
     "sourceType": "datasetVersion"
    }
   ],
   "isGpuEnabled": false,
   "isInternetEnabled": false,
   "language": "python",
   "sourceType": "notebook"
  },
  "kernelspec": {
   "display_name": "Python 3",
   "language": "python",
   "name": "python3"
  },
  "language_info": {
   "codemirror_mode": {
    "name": "ipython",
    "version": 3
   },
   "file_extension": ".py",
   "mimetype": "text/x-python",
   "name": "python",
   "nbconvert_exporter": "python",
   "pygments_lexer": "ipython3",
   "version": "3.11.11"
  },
  "papermill": {
   "default_parameters": {},
   "duration": 9.770865,
   "end_time": "2025-06-18T15:46:56.419156",
   "environment_variables": {},
   "exception": null,
   "input_path": "__notebook__.ipynb",
   "output_path": "__notebook__.ipynb",
   "parameters": {},
   "start_time": "2025-06-18T15:46:46.648291",
   "version": "2.6.0"
  }
 },
 "nbformat": 4,
 "nbformat_minor": 5
}
